{
 "cells": [
  {
   "cell_type": "markdown",
   "source": [
    "## Array with 10 zeros"
   ],
   "metadata": {
    "collapsed": false,
    "pycharm": {
     "name": "#%% md\n"
    }
   }
  },
  {
   "cell_type": "code",
   "execution_count": 4,
   "metadata": {
    "collapsed": true
   },
   "outputs": [
    {
     "name": "stdout",
     "output_type": "stream",
     "text": [
      "Zeros:\n",
      " [0. 0. 0. 0. 0. 0. 0. 0. 0. 0.] \n",
      "\n"
     ]
    }
   ],
   "source": [
    "import numpy as np\n",
    "\n",
    "zeros = np.zeros(10)\n",
    "print(\"Zeros:\\n\", zeros, \"\\n\")\n"
   ]
  },
  {
   "cell_type": "markdown",
   "source": [
    "## Array with fives only"
   ],
   "metadata": {
    "collapsed": false
   }
  },
  {
   "cell_type": "code",
   "execution_count": 5,
   "outputs": [
    {
     "name": "stdout",
     "output_type": "stream",
     "text": [
      "Fives:\n",
      " [5. 5. 5. 5. 5. 5. 5. 5. 5. 5.] \n",
      "\n"
     ]
    }
   ],
   "source": [
    "fives = np.ones(10) * 5\n",
    "print(\"Fives:\\n\", fives, \"\\n\")"
   ],
   "metadata": {
    "collapsed": false,
    "pycharm": {
     "name": "#%%\n"
    }
   }
  },
  {
   "cell_type": "markdown",
   "source": [
    "## Array with digits from 10 to 50"
   ],
   "metadata": {
    "collapsed": false
   }
  },
  {
   "cell_type": "code",
   "execution_count": 6,
   "outputs": [
    {
     "name": "stdout",
     "output_type": "stream",
     "text": [
      "Ten to Fifty array:\n",
      " [10 11 12 13 14 15 16 17 18 19 20 21 22 23 24 25 26 27 28 29 30 31 32 33\n",
      " 34 35 36 37 38 39 40 41 42 43 44 45 46 47 48 49 50] \n",
      "\n"
     ]
    }
   ],
   "source": [
    "tableTenToFifty = np.arange(10, 51, 1)\n",
    "print(\"Ten to Fifty array:\\n\", tableTenToFifty, \"\\n\")"
   ],
   "metadata": {
    "collapsed": false,
    "pycharm": {
     "name": "#%%\n"
    }
   }
  },
  {
   "cell_type": "markdown",
   "source": [
    "## 3x3 Array with digits from 0 to 8"
   ],
   "metadata": {
    "collapsed": false
   }
  },
  {
   "cell_type": "code",
   "execution_count": 7,
   "outputs": [
    {
     "name": "stdout",
     "output_type": "stream",
     "text": [
      "3x3 matrix 0 to 8:\n",
      " [[0 1 2]\n",
      " [3 4 5]\n",
      " [6 7 8]] \n",
      "\n"
     ]
    }
   ],
   "source": [
    "matrix = np.arange(0, 9, 1).reshape((3, 3))\n",
    "print(\"3x3 matrix 0 to 8:\\n\", matrix, \"\\n\")"
   ],
   "metadata": {
    "collapsed": false,
    "pycharm": {
     "name": "#%%\n"
    }
   }
  },
  {
   "cell_type": "markdown",
   "source": [
    "## 3x3 Array with zeros only"
   ],
   "metadata": {
    "collapsed": false
   }
  },
  {
   "cell_type": "code",
   "execution_count": 8,
   "outputs": [
    {
     "name": "stdout",
     "output_type": "stream",
     "text": [
      "3x3 matrix zeros:\n",
      " [[0. 0. 0.]\n",
      " [0. 0. 0.]\n",
      " [0. 0. 0.]] \n",
      "\n"
     ]
    }
   ],
   "source": [
    "d3zerosMatrix = np.zeros((3, 3))\n",
    "print(\"3x3 matrix zeros:\\n\", d3zerosMatrix, \"\\n\")"
   ],
   "metadata": {
    "collapsed": false,
    "pycharm": {
     "name": "#%%\n"
    }
   }
  },
  {
   "cell_type": "markdown",
   "source": [
    "## 3x3 Identity Array"
   ],
   "metadata": {
    "collapsed": false
   }
  },
  {
   "cell_type": "code",
   "execution_count": 17,
   "outputs": [
    {
     "name": "stdout",
     "output_type": "stream",
     "text": [
      "[[1. 0. 0.]\n",
      " [0. 1. 0.]\n",
      " [0. 0. 1.]]\n"
     ]
    }
   ],
   "source": [
    "identity = np.eye(3)\n",
    "print(identity)"
   ],
   "metadata": {
    "collapsed": false,
    "pycharm": {
     "name": "#%%\n"
    }
   }
  },
  {
   "cell_type": "markdown",
   "source": [
    "## 5x5 Array gauss distributed values"
   ],
   "metadata": {
    "collapsed": false
   }
  },
  {
   "cell_type": "code",
   "execution_count": 9,
   "outputs": [
    {
     "name": "stdout",
     "output_type": "stream",
     "text": [
      "Gaus:\n",
      " [[-1.64541373 -0.71159836  1.43721832  1.72695958 -0.19093727]\n",
      " [-0.02218672 -1.48286709  1.53063345  0.36140211  0.15115885]\n",
      " [ 1.08846471  0.1907834   1.67834417  2.50660977  0.17166069]\n",
      " [ 0.56441761  0.64711995  2.2529269   0.69158345 -1.33127134]\n",
      " [ 0.63852894 -0.10946073  0.2206063   1.8070884   0.6170043 ]] \n",
      "\n"
     ]
    }
   ],
   "source": [
    "gauss = np.random.normal(size=(5, 5))\n",
    "print(\"Gaus:\\n\", gauss, \"\\n\")"
   ],
   "metadata": {
    "collapsed": false,
    "pycharm": {
     "name": "#%%\n"
    }
   }
  },
  {
   "cell_type": "markdown",
   "source": [
    "## 10x10 Array digits from 0.01 to 1"
   ],
   "metadata": {
    "collapsed": false
   }
  },
  {
   "cell_type": "code",
   "execution_count": 10,
   "outputs": [
    {
     "name": "stdout",
     "output_type": "stream",
     "text": [
      "10x10 Array:\n",
      " [[0.01 0.02 0.03 0.04 0.05 0.06 0.07 0.08 0.09 0.1 ]\n",
      " [0.11 0.12 0.13 0.14 0.15 0.16 0.17 0.18 0.19 0.2 ]\n",
      " [0.21 0.22 0.23 0.24 0.25 0.26 0.27 0.28 0.29 0.3 ]\n",
      " [0.31 0.32 0.33 0.34 0.35 0.36 0.37 0.38 0.39 0.4 ]\n",
      " [0.41 0.42 0.43 0.44 0.45 0.46 0.47 0.48 0.49 0.5 ]\n",
      " [0.51 0.52 0.53 0.54 0.55 0.56 0.57 0.58 0.59 0.6 ]\n",
      " [0.61 0.62 0.63 0.64 0.65 0.66 0.67 0.68 0.69 0.7 ]\n",
      " [0.71 0.72 0.73 0.74 0.75 0.76 0.77 0.78 0.79 0.8 ]\n",
      " [0.81 0.82 0.83 0.84 0.85 0.86 0.87 0.88 0.89 0.9 ]\n",
      " [0.91 0.92 0.93 0.94 0.95 0.96 0.97 0.98 0.99 1.  ]] \n",
      "\n"
     ]
    }
   ],
   "source": [
    "tenXTenArray = np.arange(0.01, 1.01, 0.01).reshape((10, 10))\n",
    "print(\"10x10 Array:\\n\", tenXTenArray, \"\\n\")"
   ],
   "metadata": {
    "collapsed": false,
    "pycharm": {
     "name": "#%%\n"
    }
   }
  },
  {
   "cell_type": "markdown",
   "source": [
    "### Array with digits from 0 to 1 included, linear distributed"
   ],
   "metadata": {
    "collapsed": false
   }
  },
  {
   "cell_type": "code",
   "execution_count": 11,
   "outputs": [
    {
     "name": "stdout",
     "output_type": "stream",
     "text": [
      "Evenly spaced values:\n",
      " [0.         0.05263158 0.10526316 0.15789474 0.21052632 0.26315789\n",
      " 0.31578947 0.36842105 0.42105263 0.47368421 0.52631579 0.57894737\n",
      " 0.63157895 0.68421053 0.73684211 0.78947368 0.84210526 0.89473684\n",
      " 0.94736842 1.        ] \n",
      "\n"
     ]
    }
   ],
   "source": [
    "linspaceValues = np.linspace(0, 1, 20)\n",
    "print(\"Evenly spaced values:\\n\", linspaceValues, \"\\n\")"
   ],
   "metadata": {
    "collapsed": false,
    "pycharm": {
     "name": "#%%\n"
    }
   }
  },
  {
   "cell_type": "markdown",
   "source": [
    "### Array with random values from 1 to 25 (reshape(),sum(),mean(), std(), sum(axis))"
   ],
   "metadata": {
    "collapsed": false
   }
  },
  {
   "cell_type": "code",
   "execution_count": 12,
   "outputs": [
    {
     "name": "stdout",
     "output_type": "stream",
     "text": [
      "Random numbers from 1 to 25:\n",
      " [13 21 11 18 17 15  7 12 25 14  1 23  9 12 12  9  2 22 16 19 10  9 20  8\n",
      "  1] \n",
      "\n",
      "Reshaped random numbers:\n",
      " [[13 21 11 18 17]\n",
      " [15  7 12 25 14]\n",
      " [ 1 23  9 12 12]\n",
      " [ 9  2 22 16 19]\n",
      " [10  9 20  8  1]] \n",
      "\n",
      "Sum of all values:\n",
      " 326 \n",
      "\n",
      "Mean of all values:\n",
      " 13.04 \n",
      "\n",
      "Deviation of all values:\n",
      " 6.52061346807185 \n",
      "\n",
      "Sum of columns:\n",
      " [48 62 74 79 63] \n",
      "\n"
     ]
    }
   ],
   "source": [
    "randomNumbers1To25 = np.random.randint(1, 26, 25)\n",
    "print(\"Random numbers from 1 to 25:\\n\", randomNumbers1To25, \"\\n\")\n",
    "randomNumbers1To25 = randomNumbers1To25.reshape((5, 5))\n",
    "print(\"Reshaped random numbers:\\n\", randomNumbers1To25, \"\\n\")\n",
    "print(\"Sum of all values:\\n\", randomNumbers1To25.sum(), \"\\n\")\n",
    "print(\"Mean of all values:\\n\", randomNumbers1To25.mean(), \"\\n\")\n",
    "print(\"Deviation of all values:\\n\", randomNumbers1To25.std(), \"\\n\")\n",
    "\n",
    "sumOfColumns = randomNumbers1To25.sum(axis=0)\n",
    "print(\"Sum of columns:\\n\", sumOfColumns, \"\\n\")"
   ],
   "metadata": {
    "collapsed": false,
    "pycharm": {
     "name": "#%%\n"
    }
   }
  },
  {
   "cell_type": "markdown",
   "source": [
    "### Array with random values from 0 to 100 (median(), min(), max())"
   ],
   "metadata": {
    "collapsed": false
   }
  },
  {
   "cell_type": "code",
   "execution_count": 13,
   "outputs": [
    {
     "name": "stdout",
     "output_type": "stream",
     "text": [
      "5 x 5 random numbers:\n",
      " [[47  4 68 23  1]\n",
      " [73 89 50 35 66]\n",
      " [61 79 69 38  9]\n",
      " [38 38 80 67 91]\n",
      " [45  1 26 52 54]] \n",
      "\n",
      "Median of the random numbers:\n",
      " 50.0 \n",
      "\n",
      "Min of the random numbers:\n",
      " 1 \n",
      "\n",
      "Max of the random numbers:\n",
      " 91 \n",
      "\n"
     ]
    }
   ],
   "source": [
    "randomNumbers5x5 = np.random.randint(0, 101, (5, 5))\n",
    "print(\"5 x 5 random numbers:\\n\", randomNumbers5x5, \"\\n\")\n",
    "print(\"Median of the random numbers:\\n\", np.median(randomNumbers5x5), \"\\n\")\n",
    "print(\"Min of the random numbers:\\n\", np.min(randomNumbers5x5), \"\\n\")\n",
    "print(\"Max of the random numbers:\\n\", np.max(randomNumbers5x5), \"\\n\")"
   ],
   "metadata": {
    "collapsed": false,
    "pycharm": {
     "name": "#%%\n"
    }
   }
  },
  {
   "cell_type": "markdown",
   "source": [
    "## Random numbers with random axis size (transposition)"
   ],
   "metadata": {
    "collapsed": false
   }
  },
  {
   "cell_type": "code",
   "execution_count": 14,
   "outputs": [
    {
     "name": "stdout",
     "output_type": "stream",
     "text": [
      "Random numbers with random axis size:\n",
      " [[35  1 17 24]\n",
      " [91  8 90 90]\n",
      " [67 22 77 55]\n",
      " [50 77 36  7]\n",
      " [39 64 31 86]\n",
      " [40 58  9 28]] \n",
      "\n",
      "Transposition:\n",
      " [[35 91 67 50 39 40]\n",
      " [ 1  8 22 77 64 58]\n",
      " [17 90 77 36 31  9]\n",
      " [24 90 55  7 86 28]] \n",
      "\n"
     ]
    }
   ],
   "source": [
    "\n",
    "def set_y():\n",
    "    y_axis = np.random.randint(2, 11)\n",
    "    if y_axis != x:\n",
    "        return y_axis\n",
    "    else:\n",
    "        y_axis = set_y()\n",
    "        return y_axis\n",
    "\n",
    "\n",
    "x = np.random.randint(2, 11)\n",
    "y = set_y()\n",
    "randomNumbersRandomAxis = np.random.randint(0, 101, (x, y))\n",
    "print(\"Random numbers with random axis size:\\n\", randomNumbersRandomAxis, \"\\n\")\n",
    "print(\"Transposition:\\n\", randomNumbersRandomAxis.transpose(), \"\\n\")"
   ],
   "metadata": {
    "collapsed": false,
    "pycharm": {
     "name": "#%%\n"
    }
   }
  },
  {
   "cell_type": "markdown",
   "source": [
    "## Matrix addition"
   ],
   "metadata": {
    "collapsed": false
   }
  },
  {
   "cell_type": "code",
   "execution_count": 15,
   "outputs": [
    {
     "name": "stdout",
     "output_type": "stream",
     "text": [
      "Matrix A + Matrix B:\n",
      " [[43 91]\n",
      " [96 53]\n",
      " [11 69]] \n",
      "\n",
      "Matrix A + Matrix B:\n",
      " [[51 68]\n",
      " [ 2 60]\n",
      " [12 99]] \n",
      "\n",
      "Matrix A + Matrix B:\n",
      " [[ 94 159]\n",
      " [ 98 113]\n",
      " [ 23 168]] \n",
      "\n"
     ]
    }
   ],
   "source": [
    "matrixX = np.random.randint(2, 11)\n",
    "matrixY = np.random.randint(2, 11)\n",
    "matrixA = np.random.randint(0, 101, (matrixX, matrixY))\n",
    "print(\"Matrix A + Matrix B:\\n\", matrixA, \"\\n\")\n",
    "matrixB = np.random.randint(0, 101, (matrixX, matrixY))\n",
    "print(\"Matrix A + Matrix B:\\n\", matrixB, \"\\n\")\n",
    "print(\"Matrix A + Matrix B:\\n\", matrixA + matrixB, \"\\n\")"
   ],
   "metadata": {
    "collapsed": false,
    "pycharm": {
     "name": "#%%\n"
    }
   }
  },
  {
   "cell_type": "markdown",
   "source": [
    "## Matrix multiplication"
   ],
   "metadata": {
    "collapsed": false
   }
  },
  {
   "cell_type": "code",
   "execution_count": 16,
   "outputs": [
    {
     "name": "stdout",
     "output_type": "stream",
     "text": [
      "Matrix A for multiplication:\n",
      " [[72 98]\n",
      " [20 63]\n",
      " [46 51]\n",
      " [52 26]\n",
      " [14 39]\n",
      " [94 75]\n",
      " [93 72]\n",
      " [19 26]\n",
      " [38 89]] \n",
      "\n",
      "Matrix B for multiplication:\n",
      " [[63 57 90 14 71  9 66 13 51]\n",
      " [84 99 97 43 18  8 34 80 96]] \n",
      "\n",
      "Matrix A * Matrix B with np.matmul():\n",
      " [[12768 13806 15986  5222  6876  1432  8084  8776 13080]\n",
      " [ 6552  7377  7911  2989  2554   684  3462  5300  7068]\n",
      " [ 7182  7671  9087  2837  4184   822  4770  4678  7242]\n",
      " [ 5460  5538  7202  1846  4160   676  4316  2756  5148]\n",
      " [ 4158  4659  5043  1873  1696   438  2250  3302  4458]\n",
      " [12222 12783 15735  4541  8024  1446  8754  7222 11994]\n",
      " [11907 12429 15354  4398  7899  1413  8586  6969 11655]\n",
      " [ 3381  3657  4232  1384  1817   379  2138  2327  3465]\n",
      " [ 9870 10977 12053  4359  4300  1054  5534  7614 10482]] \n",
      "\n",
      "Matrix A * Matrix B with np.dot():\n",
      " [[12768 13806 15986  5222  6876  1432  8084  8776 13080]\n",
      " [ 6552  7377  7911  2989  2554   684  3462  5300  7068]\n",
      " [ 7182  7671  9087  2837  4184   822  4770  4678  7242]\n",
      " [ 5460  5538  7202  1846  4160   676  4316  2756  5148]\n",
      " [ 4158  4659  5043  1873  1696   438  2250  3302  4458]\n",
      " [12222 12783 15735  4541  8024  1446  8754  7222 11994]\n",
      " [11907 12429 15354  4398  7899  1413  8586  6969 11655]\n",
      " [ 3381  3657  4232  1384  1817   379  2138  2327  3465]\n",
      " [ 9870 10977 12053  4359  4300  1054  5534  7614 10482]] \n",
      "\n"
     ]
    }
   ],
   "source": [
    "matrixXMultiply = np.random.randint(2, 11)\n",
    "matrixYMultiply = np.random.randint(2, 11)\n",
    "matrixAMultiply = np.random.randint(0, 101, (matrixXMultiply, matrixYMultiply))\n",
    "print(\"Matrix A for multiplication:\\n\", matrixAMultiply, \"\\n\")\n",
    "matrixBMultiply = np.random.randint(0, 101, (matrixYMultiply, matrixXMultiply))\n",
    "print(\"Matrix B for multiplication:\\n\", matrixBMultiply, \"\\n\")\n",
    "print(\"Matrix A * Matrix B with np.matmul():\\n\", np.matmul(matrixAMultiply, matrixBMultiply), \"\\n\")\n",
    "print(\"Matrix A * Matrix B with np.dot():\\n\", np.dot(matrixAMultiply, matrixBMultiply), \"\\n\")\n"
   ],
   "metadata": {
    "collapsed": false,
    "pycharm": {
     "name": "#%%\n"
    }
   }
  }
 ],
 "metadata": {
  "kernelspec": {
   "display_name": "Python 3",
   "language": "python",
   "name": "python3"
  },
  "language_info": {
   "codemirror_mode": {
    "name": "ipython",
    "version": 2
   },
   "file_extension": ".py",
   "mimetype": "text/x-python",
   "name": "python",
   "nbconvert_exporter": "python",
   "pygments_lexer": "ipython2",
   "version": "2.7.6"
  }
 },
 "nbformat": 4,
 "nbformat_minor": 0
}