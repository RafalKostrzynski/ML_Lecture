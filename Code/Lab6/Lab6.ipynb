{
 "cells": [
  {
   "cell_type": "markdown",
   "source": [
    "# Files\n",
    "\n",
    "### Imports"
   ],
   "metadata": {
    "collapsed": false
   }
  },
  {
   "cell_type": "code",
   "execution_count": 45,
   "metadata": {
    "collapsed": true
   },
   "outputs": [],
   "source": [
    "import argparse\n",
    "import os"
   ]
  },
  {
   "cell_type": "markdown",
   "source": [
    "## Basic operations\n",
    "### Open a file"
   ],
   "metadata": {
    "collapsed": false
   }
  },
  {
   "cell_type": "code",
   "execution_count": 46,
   "outputs": [
    {
     "data": {
      "text/plain": "<_io.TextIOWrapper name='files/first_file_kostrzynski.txt' mode='r' encoding='cp65001'>"
     },
     "execution_count": 46,
     "metadata": {},
     "output_type": "execute_result"
    }
   ],
   "source": [
    "file = open('files/first_file_kostrzynski.txt')\n",
    "file"
   ],
   "metadata": {
    "collapsed": false,
    "pycharm": {
     "name": "#%%\n"
    }
   }
  },
  {
   "cell_type": "markdown",
   "source": [
    "### Try-Finally method to properly close a file"
   ],
   "metadata": {
    "collapsed": false
   }
  },
  {
   "cell_type": "code",
   "execution_count": 47,
   "outputs": [],
   "source": [
    "reader = open(\"files/first_file_kostrzynski.txt\")\n",
    "try:\n",
    "    # place for file processing e.g.:\n",
    "    reader.read()\n",
    "finally:\n",
    "    reader.close()"
   ],
   "metadata": {
    "collapsed": false,
    "pycharm": {
     "name": "#%%\n"
    }
   }
  },
  {
   "cell_type": "markdown",
   "source": [
    "### Closing file by using the \"with\" statement"
   ],
   "metadata": {
    "collapsed": false
   }
  },
  {
   "cell_type": "code",
   "execution_count": 48,
   "outputs": [],
   "source": [
    "with open(\"files/first_file_kostrzynski.txt\") as reader:\n",
    "    # place for file processing e.g.:\n",
    "    # The file closes automatically after leaving the with\n",
    "    # statement. It is highly recommended to use the with statement\n",
    "    reader.read()"
   ],
   "metadata": {
    "collapsed": false,
    "pycharm": {
     "name": "#%%\n"
    }
   }
  },
  {
   "cell_type": "markdown",
   "source": [
    "### Using positional argument"
   ],
   "metadata": {
    "collapsed": false
   }
  },
  {
   "cell_type": "code",
   "execution_count": 49,
   "outputs": [],
   "source": [
    "with open('files/first_file_kostrzynski.txt', 'r') as reader:\n",
    "    # the argument r represents the file in a read-only mode\n",
    "    # also w - open for writing\n",
    "    # rb or wb - open in binary mode\n",
    "    reader.read()"
   ],
   "metadata": {
    "collapsed": false,
    "pycharm": {
     "name": "#%%\n"
    }
   }
  },
  {
   "cell_type": "markdown",
   "source": [
    "## File types\n",
    "### Types of opened files"
   ],
   "metadata": {
    "collapsed": false
   }
  },
  {
   "cell_type": "code",
   "execution_count": 50,
   "outputs": [
    {
     "name": "stdout",
     "output_type": "stream",
     "text": [
      "<class '_io.TextIOWrapper'>\n",
      "<class '_io.TextIOWrapper'>\n",
      "<class '_io.TextIOWrapper'>\n",
      "<class '_io.BufferedReader'>\n",
      "<class '_io.BufferedWriter'>\n"
     ]
    }
   ],
   "source": [
    "with open('files/first_file_kostrzynski.txt') as file:\n",
    "    print(type(file))\n",
    "with open('files/first_file_kostrzynski.txt', 'r') as file:\n",
    "    print(type(file))\n",
    "with open('files/first_file_kostrzynski.txt', 'w') as file:\n",
    "    print(type(file))\n",
    "with open('files/first_file_kostrzynski.txt', 'rb') as file:\n",
    "    print(type(file))\n",
    "with open('files/first_file_kostrzynski.txt', 'wb') as file:\n",
    "    print(type(file))"
   ],
   "metadata": {
    "collapsed": false,
    "pycharm": {
     "name": "#%%\n"
    }
   }
  },
  {
   "cell_type": "markdown",
   "source": [
    "### Raw file types"
   ],
   "metadata": {
    "collapsed": false
   }
  },
  {
   "cell_type": "code",
   "execution_count": 51,
   "outputs": [
    {
     "name": "stdout",
     "output_type": "stream",
     "text": [
      "<class '_io.FileIO'>\n"
     ]
    }
   ],
   "source": [
    "with open('files/first_file_kostrzynski.txt', 'rb',buffering=0) as file:\n",
    "    print(type(file))"
   ],
   "metadata": {
    "collapsed": false,
    "pycharm": {
     "name": "#%%\n"
    }
   }
  },
  {
   "cell_type": "markdown",
   "source": [
    "## Reading Files\n",
    "### Reading an entire file"
   ],
   "metadata": {
    "collapsed": false
   }
  },
  {
   "cell_type": "code",
   "execution_count": 52,
   "outputs": [
    {
     "name": "stdout",
     "output_type": "stream",
     "text": [
      "This is a file meant only to be read\n",
      "This is a new text line\n",
      "Hello how are you?\n"
     ]
    }
   ],
   "source": [
    "with open('files/read_only_file_kostrzynski.txt', 'r') as file:\n",
    "    print(file.read())"
   ],
   "metadata": {
    "collapsed": false,
    "pycharm": {
     "name": "#%%\n"
    }
   }
  },
  {
   "cell_type": "markdown",
   "source": [
    "### Reading only 5 bytes with the readline() method"
   ],
   "metadata": {
    "collapsed": false
   }
  },
  {
   "cell_type": "code",
   "execution_count": 53,
   "outputs": [
    {
     "name": "stdout",
     "output_type": "stream",
     "text": [
      "This \n",
      "is a \n",
      "file \n",
      "meant\n",
      " only\n",
      " to b\n",
      "e rea\n"
     ]
    }
   ],
   "source": [
    "with open('files/read_only_file_kostrzynski.txt','r') as readable:\n",
    "    for i in range(7):\n",
    "        print(readable.readline(5))"
   ],
   "metadata": {
    "collapsed": false,
    "pycharm": {
     "name": "#%%\n"
    }
   }
  },
  {
   "cell_type": "markdown",
   "source": [
    "### Reading a whole file with readlines()"
   ],
   "metadata": {
    "collapsed": false
   }
  },
  {
   "cell_type": "code",
   "execution_count": 54,
   "outputs": [
    {
     "name": "stdout",
     "output_type": "stream",
     "text": [
      "['This is a file meant only to be read\\n', 'This is a new text line\\n', 'Hello how are you?']\n"
     ]
    }
   ],
   "source": [
    "with open('files/read_only_file_kostrzynski.txt','r') as readable:\n",
    "    print(readable.readlines())"
   ],
   "metadata": {
    "collapsed": false,
    "pycharm": {
     "name": "#%%\n"
    }
   }
  },
  {
   "cell_type": "markdown",
   "source": [
    "### Creating a list out of the file object"
   ],
   "metadata": {
    "collapsed": false
   }
  },
  {
   "cell_type": "code",
   "execution_count": 55,
   "outputs": [
    {
     "data": {
      "text/plain": "['This is a file meant only to be read\\n',\n 'This is a new text line\\n',\n 'Hello how are you?']"
     },
     "execution_count": 55,
     "metadata": {},
     "output_type": "execute_result"
    }
   ],
   "source": [
    "f=open('files/read_only_file_kostrzynski.txt')\n",
    "list(f)"
   ],
   "metadata": {
    "collapsed": false,
    "pycharm": {
     "name": "#%%\n"
    }
   }
  },
  {
   "cell_type": "markdown",
   "source": [
    "### Iteration over each line in the file"
   ],
   "metadata": {
    "collapsed": false
   }
  },
  {
   "cell_type": "code",
   "execution_count": 56,
   "outputs": [
    {
     "name": "stdout",
     "output_type": "stream",
     "text": [
      "This is a file meant only to be read\n",
      "This is a new text line\n",
      "Hello how are you?"
     ]
    }
   ],
   "source": [
    "with open('files/read_only_file_kostrzynski.txt','r') as readable:\n",
    "    line = readable.readline()\n",
    "    while line !='':\n",
    "        print(line,end='')\n",
    "        line = readable.readline()"
   ],
   "metadata": {
    "collapsed": false,
    "pycharm": {
     "name": "#%%\n"
    }
   }
  },
  {
   "cell_type": "markdown",
   "source": [
    "### Using readlines() to iterate a file"
   ],
   "metadata": {
    "collapsed": false
   }
  },
  {
   "cell_type": "code",
   "execution_count": 57,
   "outputs": [
    {
     "name": "stdout",
     "output_type": "stream",
     "text": [
      "This is a file meant only to be read\n",
      "This is a new text line\n",
      "Hello how are you?"
     ]
    }
   ],
   "source": [
    "with open('files/read_only_file_kostrzynski.txt', 'r') as reader:\n",
    "     for line in reader.readlines():\n",
    "         print(line, end='')"
   ],
   "metadata": {
    "collapsed": false,
    "pycharm": {
     "name": "#%%\n"
    }
   }
  },
  {
   "cell_type": "markdown",
   "source": [
    "### Iteration over the file object itself"
   ],
   "metadata": {
    "collapsed": false
   }
  },
  {
   "cell_type": "code",
   "execution_count": 58,
   "outputs": [
    {
     "name": "stdout",
     "output_type": "stream",
     "text": [
      "This is a file meant only to be read\n",
      "This is a new text line\n",
      "Hello how are you?"
     ]
    }
   ],
   "source": [
    "with open('files/read_only_file_kostrzynski.txt', 'r') as reader:\n",
    "     for line in reader:\n",
    "         print(line, end='')"
   ],
   "metadata": {
    "collapsed": false,
    "pycharm": {
     "name": "#%%\n"
    }
   }
  },
  {
   "cell_type": "markdown",
   "source": [
    "## Writing a file\n",
    "### Using write() method"
   ],
   "metadata": {
    "collapsed": false
   }
  },
  {
   "cell_type": "code",
   "execution_count": 59,
   "outputs": [],
   "source": [
    "with open('files/read_only_file_kostrzynski.txt', 'r') as reader:\n",
    "    read_only_text = reader.readlines()\n",
    "\n",
    "with open('files/write_write_file_kostrzynski.txt', 'w') as writer:\n",
    "    for breed in reversed(read_only_text):\n",
    "        writer.write(breed)"
   ],
   "metadata": {
    "collapsed": false,
    "pycharm": {
     "name": "#%%\n"
    }
   }
  },
  {
   "cell_type": "markdown",
   "source": [
    "### Using the writeline() method"
   ],
   "metadata": {
    "collapsed": false
   }
  },
  {
   "cell_type": "code",
   "execution_count": 60,
   "outputs": [],
   "source": [
    "with open('files/writeline_write_file_kostrzynski.txt', 'w') as writer:\n",
    "    writer.writelines(reversed(read_only_text))"
   ],
   "metadata": {
    "collapsed": false,
    "pycharm": {
     "name": "#%%\n"
    }
   }
  },
  {
   "cell_type": "markdown",
   "source": [
    "## Working with bytes"
   ],
   "metadata": {
    "collapsed": false
   }
  },
  {
   "cell_type": "code",
   "execution_count": 61,
   "outputs": [
    {
     "name": "stdout",
     "output_type": "stream",
     "text": [
      "b'THis file will be used for testing byte based methods\\r\\n'\n"
     ]
    }
   ],
   "source": [
    "with open('files/working_with_bytes_kostrzynski.txt', 'rb') as reader:\n",
    "     print(reader.readline())"
   ],
   "metadata": {
    "collapsed": false,
    "pycharm": {
     "name": "#%%\n"
    }
   }
  },
  {
   "cell_type": "markdown",
   "source": [
    "## Reading a jpg file"
   ],
   "metadata": {
    "collapsed": false
   }
  },
  {
   "cell_type": "code",
   "execution_count": 62,
   "outputs": [
    {
     "name": "stdout",
     "output_type": "stream",
     "text": [
      "b'\\xff'\n",
      "b'\\xd8\\xff\\xe1'\n",
      "b'\\x84\\xe2'\n",
      "b'E'\n",
      "b'x'\n"
     ]
    }
   ],
   "source": [
    "with open('files/nikexoffwhite_kostrzynski.jpg', 'rb') as byte_reader:\n",
    "     print(byte_reader.read(1))\n",
    "     print(byte_reader.read(3))\n",
    "     print(byte_reader.read(2))\n",
    "     print(byte_reader.read(1))\n",
    "     print(byte_reader.read(1))"
   ],
   "metadata": {
    "collapsed": false,
    "pycharm": {
     "name": "#%%\n"
    }
   }
  },
  {
   "cell_type": "markdown",
   "source": [
    "## Dos2Unix.py\n",
    "### str2unix"
   ],
   "metadata": {
    "collapsed": false
   }
  },
  {
   "cell_type": "code",
   "execution_count": 63,
   "outputs": [],
   "source": [
    "def str2unix(input_str: str) -> str:\n",
    "    r_str = input_str.replace('\\r\\n', '\\n')\n",
    "    return r_str"
   ],
   "metadata": {
    "collapsed": false,
    "pycharm": {
     "name": "#%%\n"
    }
   }
  },
  {
   "cell_type": "markdown",
   "source": [
    "### dos2unix"
   ],
   "metadata": {
    "collapsed": false
   }
  },
  {
   "cell_type": "code",
   "execution_count": 64,
   "outputs": [],
   "source": [
    "def dos2unix(source_file: str, dest_file: str):\n",
    "    with open(source_file, 'r') as dos2unix_reader:\n",
    "        dos_content = dos2unix_reader.read()\n",
    "\n",
    "    unix_content = str2unix(dos_content)\n",
    "\n",
    "    with open(dest_file, 'w') as dos2unix_writer:\n",
    "        dos2unix_writer.write(unix_content)"
   ],
   "metadata": {
    "collapsed": false,
    "pycharm": {
     "name": "#%%\n"
    }
   }
  },
  {
   "cell_type": "markdown",
   "source": [
    "### Main\n",
    "This method doesnt work because of the parser"
   ],
   "metadata": {
    "collapsed": false
   }
  },
  {
   "cell_type": "code",
   "execution_count": 65,
   "outputs": [],
   "source": [
    "if __name__ == \"__mains__\":\n",
    "    parser = argparse.ArgumentParser(\n",
    "        description=\"Script that converts a DOS like file to an Unix like file\",\n",
    "    )\n",
    "    parser.add_argument(\n",
    "        'files/file_with_doc_signs_kostrzynski.txt',\n",
    "        help='The location of the source '\n",
    "    )\n",
    "    parser.add_argument(\n",
    "        'files/generated_file_kostrzynski.txt',\n",
    "        help='Location of dest file (default: source_file appended with `_unix`',\n",
    "        default=None\n",
    "    )\n",
    "\n",
    "    args = parser.parse_args()\n",
    "    s_file = args.source_file\n",
    "    d_file = args.dest_file\n",
    "\n",
    "    if d_file is None:\n",
    "        file_path, file_extension = os.path.splitext(s_file)\n",
    "        d_file = f'{file_path}_unix{file_extension}'\n",
    "\n",
    "    dos2unix(s_file, d_file)"
   ],
   "metadata": {
    "collapsed": false,
    "pycharm": {
     "name": "#%%\n"
    }
   }
  },
  {
   "cell_type": "markdown",
   "source": [
    "### Appending to a file"
   ],
   "metadata": {
    "collapsed": false
   }
  },
  {
   "cell_type": "code",
   "execution_count": 66,
   "outputs": [
    {
     "name": "stdout",
     "output_type": "stream",
     "text": [
      "Lorem ipsum dolor sit amet, consectetur adipiscing elit. Donec porttitor, ex maximus rhoncus sagittis, lacus leo tincidunt enim,\n",
      "    ut mollis ante nisl quis orci.\n",
      "Mauris at ligula quis nulla elementum condimentum. Cras rutrum ultrices venenatis. Lorem ipsum dolor\n",
      "\n",
      "Beagle\n",
      "Beagle\n",
      "Beagle\n",
      "Beagle\n"
     ]
    }
   ],
   "source": [
    "with open('files/tipps_and_tricks_kostrzynski.txt', 'a') as a_writer:\n",
    "    a_writer.write('\\nBeagle')\n",
    "with open('files/tipps_and_tricks_kostrzynski.txt', 'r') as reader:\n",
    "     print(reader.read())"
   ],
   "metadata": {
    "collapsed": false,
    "pycharm": {
     "name": "#%%\n"
    }
   }
  },
  {
   "cell_type": "markdown",
   "source": [
    "### Working with two files at the same time"
   ],
   "metadata": {
    "collapsed": false
   }
  },
  {
   "cell_type": "code",
   "execution_count": 67,
   "outputs": [],
   "source": [
    "d_path = 'files/tipps_and_tricks_kostrzynski.txt'\n",
    "d_r_path = 'files/reversed_lorem_ipsum_kostrzynski.txt'\n",
    "with open(d_path, 'r') as reader, open(d_r_path, 'w') as writer:\n",
    "    lorem_ipsum = reader.readlines()\n",
    "    writer.writelines(reversed(lorem_ipsum))\n"
   ],
   "metadata": {
    "collapsed": false,
    "pycharm": {
     "name": "#%%\n"
    }
   }
  },
  {
   "cell_type": "markdown",
   "source": [
    "### Creating a new Context Manager\n"
   ],
   "metadata": {
    "collapsed": false
   }
  },
  {
   "cell_type": "code",
   "execution_count": 68,
   "outputs": [],
   "source": [
    "class my_file_reader():\n",
    "    def __init__(self, file_path):\n",
    "        self.__path = file_path\n",
    "        self.__file_object = None\n",
    "\n",
    "    def __enter__(self):\n",
    "        self.__file_object = open(self.__path)\n",
    "        return self\n",
    "\n",
    "    def __exit__(self, type, val, tb):\n",
    "        self.__file_object.close()"
   ],
   "metadata": {
    "collapsed": false,
    "pycharm": {
     "name": "#%%\n"
    }
   }
  },
  {
   "cell_type": "markdown",
   "source": [
    "### Open .png file without parsing the header"
   ],
   "metadata": {
    "collapsed": false
   }
  },
  {
   "cell_type": "code",
   "execution_count": 69,
   "outputs": [],
   "source": [
    "class PngReader:\n",
    "    _expected_magic = b'\\x89PNG\\r\\n\\x1a\\n'\n",
    "\n",
    "    def __init__(self, file_path):\n",
    "        if not file_path.endswith('.png'):\n",
    "            raise NameError(\"File must be a '.png' extension\")\n",
    "        self.__path = file_path\n",
    "        self.__file_object = None\n",
    "\n",
    "    def __enter__(self):\n",
    "        self.__file_object = open(self.__path, 'rb')\n",
    "\n",
    "        magic = self.__file_object.read(8)\n",
    "        if magic != self._expected_magic:\n",
    "            raise TypeError(\"The File is not a properly formatted .png file!\")\n",
    "\n",
    "        return self\n",
    "\n",
    "    def __exit__(self, inner_type, val, tb):\n",
    "        self.__file_object.close()\n",
    "\n",
    "    def __iter__(self):\n",
    "        return self\n",
    "\n",
    "    def __next__(self):\n",
    "        initial_data = self.__file_object.read(4)\n",
    "\n",
    "        if self.__file_object is None or initial_data == b'':\n",
    "            raise StopIteration\n",
    "        else:\n",
    "            chunk_len = int.from_bytes(initial_data, byteorder='big')\n",
    "            chunk_type = self.__file_object.read(4)\n",
    "            chunk_data = self.__file_object.read(chunk_len)\n",
    "            chunk_crc = self.__file_object.read(4)\n",
    "            return chunk_len, chunk_type, chunk_data, chunk_crc"
   ],
   "metadata": {
    "collapsed": false,
    "pycharm": {
     "name": "#%%\n"
    }
   }
  },
  {
   "cell_type": "markdown",
   "source": [
    "### Open and parse a png file"
   ],
   "metadata": {
    "collapsed": false
   }
  },
  {
   "cell_type": "code",
   "execution_count": 70,
   "outputs": [
    {
     "name": "stdout",
     "output_type": "stream",
     "text": [
      "00013, b'IHDR', b'\\n\\xba`{'\n",
      "00009, b'pHYs', b'\\xbf\\x08\\xd8z'\n",
      "00017, b'tEXt', b'A^\\xbc('\n",
      "00019, b'tEXt', b'\\x1b\\xcfw0'\n",
      "00045, b'zTXt', b'\\x97\\xaf,\\xb8'\n",
      "6980646, b'IDAT', b'a\\xcbx%'\n",
      "00000, b'IEND', b'\\xaeB`\\x82'\n"
     ]
    }
   ],
   "source": [
    "with PngReader('files/nikexoffwhite_kostrzynski.png') as reader:\n",
    "     for l, t, d, c in reader:\n",
    "         print(f\"{l:05}, {t}, {c}\")\n",
    "\n",
    "\n"
   ],
   "metadata": {
    "collapsed": false,
    "pycharm": {
     "name": "#%%\n"
    }
   }
  }
 ],
 "metadata": {
  "kernelspec": {
   "display_name": "Python 3",
   "language": "python",
   "name": "python3"
  },
  "language_info": {
   "codemirror_mode": {
    "name": "ipython",
    "version": 2
   },
   "file_extension": ".py",
   "mimetype": "text/x-python",
   "name": "python",
   "nbconvert_exporter": "python",
   "pygments_lexer": "ipython2",
   "version": "2.7.6"
  }
 },
 "nbformat": 4,
 "nbformat_minor": 0
}