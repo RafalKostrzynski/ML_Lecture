{
 "cells": [
  {
   "cell_type": "markdown",
   "source": [
    "## Imports"
   ],
   "metadata": {
    "collapsed": false
   }
  },
  {
   "cell_type": "code",
   "execution_count": null,
   "outputs": [],
   "source": [
    "from openpyxl import Workbook\n",
    "from bs4 import BeautifulSoup\n",
    "import requests as req\n",
    "import string as st\n",
    "import random as ran"
   ],
   "metadata": {
    "collapsed": false,
    "pycharm": {
     "name": "#%%\n"
    }
   }
  },
  {
   "cell_type": "markdown",
   "source": [
    "## Creating 3 workbooks"
   ],
   "metadata": {
    "collapsed": false
   }
  },
  {
   "cell_type": "code",
   "execution_count": null,
   "outputs": [],
   "source": [
    "wb = Workbook()\n",
    "wsGielda = wb.active\n",
    "wsGielda.title = \"Giełda\"\n",
    "wsLinki = wb.create_sheet(\"Linki\")\n",
    "wsFilmweb = wb.create_sheet(\"Filmweb\")"
   ],
   "metadata": {
    "collapsed": false,
    "pycharm": {
     "name": "#%%\n"
    }
   }
  },
  {
   "cell_type": "markdown",
   "source": [
    "## Stock"
   ],
   "metadata": {
    "collapsed": false
   }
  },
  {
   "cell_type": "code",
   "source": [
    "class Company:\n",
    "    def __init__(self, name, course, percentage, transactions):\n",
    "        self.name = name\n",
    "        self.course = course\n",
    "        self.percentage = percentage\n",
    "        self.transactions = transactions\n",
    "    def __str__(self):\n",
    "        return \"Name: \"+self.name\\\n",
    "               +\"\\nCourse: \"+ str(self.course)+\\\n",
    "               \"\\nPercentage: \"+str(self.percentage)+\\\n",
    "               \"\\nNo of Transactions: \"+str(self.transactions)+\"\\n\"\n",
    "\n",
    "\n",
    "def get_text():\n",
    "    str_code = st.ascii_lowercase\n",
    "    result_str = 'q/?s='\n",
    "    new_code = ''.join(ran.choice(str_code) for j in range(3))\n",
    "    return result_str + new_code\n",
    "\n",
    "\n",
    "def get_person(text, soup):\n",
    "    ref = soup.find(text=text).parent.find(\"span\")\n",
    "    if ref.text == \"\":\n",
    "        return 0\n",
    "    if text == \"Transakcje\":\n",
    "        return int(ref.text.replace(\" \", \"\"))\n",
    "\n",
    "    return float(ref.text.replace(\" \", \"\"))\n",
    "\n",
    "\n",
    "def find_course(code):\n",
    "    link = \"https://stooq.pl/\" + code\n",
    "    result = req.get(link)\n",
    "    result_txt = result.text\n",
    "    soup = BeautifulSoup(result_txt, \"html.parser\")\n",
    "    try:\n",
    "        course = get_person(\"Kurs\", soup)\n",
    "        percentage = get_person(\"Zmiana\", soup)\n",
    "        transactions = get_person(\"Transakcje\", soup)\n",
    "        name = code.split('=')[1]\n",
    "        return Company(name, course, percentage, transactions)\n",
    "\n",
    "    except AttributeError:\n",
    "        try:\n",
    "            link = soup.find(id=\"f16\").parent.find('a', href=True)\n",
    "            if link.text == 'symbol waloru':\n",
    "                link = get_text()\n",
    "            else:\n",
    "                link = link.get('href')\n",
    "\n",
    "            return find_course(link)\n",
    "\n",
    "        except AttributeError:\n",
    "            return find_course(get_text())\n",
    "\n",
    "\n",
    "def fill_wsGielda(companies):\n",
    "    i = 1\n",
    "    for col in wsGielda.iter_cols(min_row=1, max_col=4, max_row=5):\n",
    "        for cell in col:\n",
    "            if cell.col_idx == 1:\n",
    "                cell.value = companies[i].name\n",
    "            elif cell.col_idx == 2:\n",
    "                cell.value = companies[i].course\n",
    "            elif cell.col_idx == 3:\n",
    "                cell.value = companies[i].percentage\n",
    "            elif cell.col_idx == 4:\n",
    "                cell.value = companies[i].transactions\n",
    "            i += 1\n",
    "            if i == 5:\n",
    "                i = 1\n",
    "\n",
    "\n",
    "def print_from_gielda():\n",
    "    for col in wsGielda.iter_cols(min_row=1, max_col=4, max_row=5):\n",
    "        for cell in col:\n",
    "            print(\"Cell: \",cell,\" Value: \",cell.value)\n",
    "\n",
    "\n",
    "def gielda():\n",
    "    companies = []\n",
    "    for i in range(5):\n",
    "        companies.append(find_course(get_text()))\n",
    "    print(\"Created data about companies:\")\n",
    "    for company in companies:\n",
    "        print(company)\n",
    "    fill_wsGielda(companies)\n",
    "    print(\"Data in the Gielda sheet:\")\n",
    "    print_from_gielda()\n",
    "gielda()"
   ],
   "metadata": {
    "collapsed": false,
    "pycharm": {
     "name": "#%%\n"
    }
   },
   "execution_count": 29,
   "outputs": [
    {
     "name": "stdout",
     "output_type": "stream",
     "text": [
      "Created data about companies:\n",
      "Name: hdr\n",
      "Course: 28.4\n",
      "Percentage: 0.0\n",
      "No of Transactions: 5\n",
      "\n",
      "Name: cyrn.us\n",
      "Course: 0.8859\n",
      "Percentage: -0.0441\n",
      "No of Transactions: 146\n",
      "\n",
      "Name: ixse.us\n",
      "Course: 25.46\n",
      "Percentage: 0.1592\n",
      "No of Transactions: 3\n",
      "\n",
      "Name: zoz20.f\n",
      "Course: 303.5\n",
      "Percentage: 0.0\n",
      "No of Transactions: 0\n",
      "\n",
      "Name: cut.us\n",
      "Course: 29.4852\n",
      "Percentage: -0.0048\n",
      "No of Transactions: 31\n",
      "\n",
      "Data in the Gielda sheet:\n",
      "Cell:  <Cell 'Giełda'.A1>  Value:  cyrn.us\n",
      "Cell:  <Cell 'Giełda'.A2>  Value:  ixse.us\n",
      "Cell:  <Cell 'Giełda'.A3>  Value:  zoz20.f\n",
      "Cell:  <Cell 'Giełda'.A4>  Value:  cut.us\n",
      "Cell:  <Cell 'Giełda'.A5>  Value:  cyrn.us\n",
      "Cell:  <Cell 'Giełda'.B1>  Value:  25.46\n",
      "Cell:  <Cell 'Giełda'.B2>  Value:  303.5\n",
      "Cell:  <Cell 'Giełda'.B3>  Value:  29.4852\n",
      "Cell:  <Cell 'Giełda'.B4>  Value:  0.8859\n",
      "Cell:  <Cell 'Giełda'.B5>  Value:  25.46\n",
      "Cell:  <Cell 'Giełda'.C1>  Value:  0.0\n",
      "Cell:  <Cell 'Giełda'.C2>  Value:  -0.0048\n",
      "Cell:  <Cell 'Giełda'.C3>  Value:  -0.0441\n",
      "Cell:  <Cell 'Giełda'.C4>  Value:  0.1592\n",
      "Cell:  <Cell 'Giełda'.C5>  Value:  0.0\n",
      "Cell:  <Cell 'Giełda'.D1>  Value:  31\n",
      "Cell:  <Cell 'Giełda'.D2>  Value:  146\n",
      "Cell:  <Cell 'Giełda'.D3>  Value:  3\n",
      "Cell:  <Cell 'Giełda'.D4>  Value:  0\n",
      "Cell:  <Cell 'Giełda'.D5>  Value:  31\n"
     ]
    }
   ]
  },
  {
   "cell_type": "markdown",
   "source": [
    "## Links"
   ],
   "metadata": {
    "collapsed": false
   }
  },
  {
   "cell_type": "code",
   "execution_count": 30,
   "outputs": [
    {
     "name": "stdout",
     "output_type": "stream",
     "text": [
      "Data in the Links sheet: \n",
      "Cell:  <Cell 'Linki'.A1>  Value:  https://www.youtube.com/about/\n",
      "Cell:  <Cell 'Linki'.A2>  Value:  https://www.youtube.com/about/press/\n",
      "Cell:  <Cell 'Linki'.A3>  Value:  https://www.youtube.com/about/copyright/\n",
      "Cell:  <Cell 'Linki'.A4>  Value:  https://www.youtube.com/t/contact_us\n",
      "Cell:  <Cell 'Linki'.A5>  Value:  https://www.youtube.com/creators/\n",
      "Cell:  <Cell 'Linki'.A6>  Value:  https://www.youtube.com/ads/\n",
      "Cell:  <Cell 'Linki'.A7>  Value:  https://www.youtube.comhttps://developers.google.com/youtube\n",
      "Cell:  <Cell 'Linki'.A8>  Value:  https://www.youtube.com/t/impressum?hl=de&gl=DE\n",
      "Cell:  <Cell 'Linki'.A9>  Value:  https://www.youtube.comhttps://transparencyreport.google.com/netzdg/youtube\n",
      "Cell:  <Cell 'Linki'.A10>  Value:  https://www.youtube.comhttps://support.google.com/youtube/contact/netzdg\n",
      "Cell:  <Cell 'Linki'.A11>  Value:  https://www.youtube.com/t/terms\n",
      "Cell:  <Cell 'Linki'.A12>  Value:  https://www.youtube.comhttps://www.google.de/intl/de/policies/privacy/\n",
      "Cell:  <Cell 'Linki'.A13>  Value:  https://www.youtube.com/about/policies/\n",
      "Cell:  <Cell 'Linki'.A14>  Value:  https://www.youtube.com/howyoutubeworks?utm_campaign=ytgen&utm_source=ythp&utm_medium=LeftNav&utm_content=txt&u=https%3A%2F%2Fwww.youtube.com%2Fhowyoutubeworks%3Futm_source%3Dythp%26utm_medium%3DLeftNav%26utm_campaign%3Dytgen\n",
      "Cell:  <Cell 'Linki'.A15>  Value:  https://www.youtube.com/new\n"
     ]
    }
   ],
   "source": [
    "def links():\n",
    "    url = \"https://www.youtube.com/\"\n",
    "    result = req.get(url)\n",
    "    result_txt = result.text\n",
    "    soup = BeautifulSoup(result_txt, \"html.parser\")\n",
    "    ref_list = soup.find_all('a', href=True)\n",
    "    link_list = []\n",
    "    for element in ref_list:\n",
    "        link = element.get(\"href\")\n",
    "        if url not in link:\n",
    "            link = \"https://www.youtube.com\" + link\n",
    "        link_list.append(link)\n",
    "    i = 0\n",
    "    for row in wsLinki.iter_rows(min_row=1, max_row=len(link_list)):\n",
    "        for cell in row:\n",
    "            cell.value = link_list[i]\n",
    "            i += 1\n",
    "    print(\"Data in the Links sheet: \")\n",
    "    for row in wsLinki.iter_rows(min_row=1, max_row=len(link_list)):\n",
    "        for cell in row:\n",
    "            print(\"Cell: \",cell,\" Value: \",cell.value)\n",
    "\n",
    "links()"
   ],
   "metadata": {
    "collapsed": false,
    "pycharm": {
     "name": "#%%\n"
    }
   }
  },
  {
   "cell_type": "markdown",
   "source": [
    "## Filmweb"
   ],
   "metadata": {
    "collapsed": false
   }
  },
  {
   "cell_type": "code",
   "execution_count": 31,
   "outputs": [
    {
     "name": "stdout",
     "output_type": "stream",
     "text": [
      "Data in the Filmweb sheet\n",
      "Cell:  <Cell 'Filmweb'.A1>  Value:  Andy Muschietti\n",
      "Cell:  <Cell 'Filmweb'.A2>  Value:  26 sierpnia 2019 (świat)\n",
      "Cell:  <Cell 'Filmweb'.A3>  Value:  46166\n",
      "Cell:  <Cell 'Filmweb'.A4>  Value:  6.195950031280518\n"
     ]
    }
   ],
   "source": [
    "def filmweb():\n",
    "    url = \"https://www.filmweb.pl/film/To%3A+Rozdzia%C5%82+2-2019-793838#\"\n",
    "    result = req.get(url)\n",
    "    result_txt = result.text\n",
    "    soup = BeautifulSoup(result_txt, \"html.parser\")\n",
    "    wsFilmweb['A1'] = soup.find(itemprop=\"director\").text.strip()\n",
    "    wsFilmweb['A2'] = soup.find(\"span\", {\"class\": \"block\"}).text.strip()\n",
    "    wsFilmweb['A3'] = soup.find(\"div\", {\"class\": \"filmRating filmRating--hasPanel\"}).attrs.get(\"data-count\")\n",
    "    wsFilmweb['A4'] = soup.find(\"div\", {\"class\": \"filmRating filmRating--hasPanel\"}).attrs.get(\"data-rate\")\n",
    "    print(\"Data in the Filmweb sheet\")\n",
    "    for row in wsFilmweb.iter_rows(min_row=1, max_row=4):\n",
    "        for cell in row:\n",
    "            print(\"Cell: \",cell,\" Value: \",cell.value)\n",
    "filmweb()"
   ],
   "metadata": {
    "collapsed": false,
    "pycharm": {
     "name": "#%%\n"
    }
   }
  },
  {
   "cell_type": "markdown",
   "source": [
    "## Creating an xlsx file from the existing Workbook"
   ],
   "metadata": {
    "collapsed": false
   }
  },
  {
   "cell_type": "code",
   "execution_count": 32,
   "outputs": [],
   "source": [
    "wb.save('Kostrzynski-175ICB2.xlsx')"
   ],
   "metadata": {
    "collapsed": false,
    "pycharm": {
     "name": "#%%\n"
    }
   }
  }
 ],
 "metadata": {
  "kernelspec": {
   "display_name": "Python 3",
   "language": "python",
   "name": "python3"
  },
  "language_info": {
   "codemirror_mode": {
    "name": "ipython",
    "version": 2
   },
   "file_extension": ".py",
   "mimetype": "text/x-python",
   "name": "python",
   "nbconvert_exporter": "python",
   "pygments_lexer": "ipython2",
   "version": "2.7.6"
  }
 },
 "nbformat": 4,
 "nbformat_minor": 0
}