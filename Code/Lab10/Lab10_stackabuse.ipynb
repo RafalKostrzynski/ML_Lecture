{
 "cells": [
  {
   "cell_type": "markdown",
   "source": [
    "# Concurrency\n",
    "\n",
    "### This script have been created with a help of this StackAbuse tutorial: https://stackabuse.com/concurrency-in-python/\n",
    "\n",
    "### Imports"
   ],
   "metadata": {
    "collapsed": false
   }
  },
  {
   "cell_type": "code",
   "execution_count": 35,
   "outputs": [],
   "source": [
    "import time\n",
    "import nest_asyncio\n",
    "import requests\n",
    "import json\n",
    "from urllib import request\n",
    "import multiprocessing\n",
    "import asyncio\n",
    "import aiohttp\n",
    "from Code.Lab10.service import save_image\n",
    "from concurrent.futures import ThreadPoolExecutor"
   ],
   "metadata": {
    "collapsed": false,
    "pycharm": {
     "name": "#%%\n"
    }
   }
  },
  {
   "cell_type": "markdown",
   "source": [
    "### Download images and save them into a folder\n",
    "#### To see images check the /downloads directory\n",
    "\n",
    "We use the https://picsum.photos site to retrieve a list of pictures.\n",
    "Then we just split every link so we are able to name the file and create an jpg file\n",
    "At the end we just use the urlretrieve() method to save the file\n",
    "There is also a time counter to check the execution speed"
   ],
   "metadata": {
    "collapsed": false
   }
  },
  {
   "cell_type": "code",
   "execution_count": 36,
   "outputs": [
    {
     "name": "stdout",
     "output_type": "stream",
     "text": [
      "Time taken to download 30 images into the downloads folder synchronously: 11.287117719650269\n"
     ]
    }
   ],
   "source": [
    "def download_images():\n",
    "    response = requests.get(\"https://picsum.photos/v2/list\")\n",
    "    if response.status_code != 200:\n",
    "        raise AttributeError('GET /tasks/ {}'.format(response.status_code))\n",
    "    data = json.loads(response.text)\n",
    "\n",
    "    pictures=[]\n",
    "    for s in data:\n",
    "        pictures.append(s['download_url']+\".jpg\")\n",
    "    return pictures\n",
    "\n",
    "def saveImages(link):\n",
    "    filename = link.split('/')[6].split('.')[0]\n",
    "    fileformat = link.split('/')[6].split('.')[1]\n",
    "    request.urlretrieve(link, \"downloads/{}.{}\".format(filename, fileformat))\n",
    "\n",
    "def main():\n",
    "    images = download_images()\n",
    "    for image in images:\n",
    "        saveImages(image)\n",
    "\n",
    "start_time = time.time()\n",
    "main()\n",
    "duration_synch = time.time() - start_time\n",
    "print(f\"Time taken to download 30 images into the downloads folder synchronously: {duration_synch}\")\n"
   ],
   "metadata": {
    "collapsed": false,
    "pycharm": {
     "name": "#%%\n"
    }
   }
  },
  {
   "cell_type": "markdown",
   "source": [
    "### Let´s use multithreading!\n",
    "\n",
    "This time we use multiple threads by creating an ThreadPoolExecutor that handles creating and managing threads.\n",
    "We limit our program to maximal 5 threads."
   ],
   "metadata": {
    "collapsed": false
   }
  },
  {
   "cell_type": "code",
   "execution_count": 37,
   "outputs": [
    {
     "name": "stdout",
     "output_type": "stream",
     "text": [
      "Time taken to download 30 images into the downloads folder with multithreading: 6.731784105300903\n"
     ]
    }
   ],
   "source": [
    "def process_images_threading():\n",
    "    images = download_images()\n",
    "    with ThreadPoolExecutor(max_workers=5) as executor:\n",
    "        executor.map(saveImages,images)\n",
    "\n",
    "start_time = time.time()\n",
    "process_images_threading()\n",
    "duration_threading = time.time() - start_time\n",
    "print(f\"Time taken to download 30 images into the downloads folder with multithreading: {duration_threading}\")"
   ],
   "metadata": {
    "collapsed": false,
    "pycharm": {
     "name": "#%%\n"
    }
   }
  },
  {
   "cell_type": "markdown",
   "source": [
    "### Multiprocessing\n",
    "\n",
    "Until now we used only one CPU.\n",
    "With this approach we tell our program to use more than only one core.\n",
    "\n",
    "\n",
    "## Disclaimer\n",
    "Jupiter does not support multiprocessing so I had to export the saveImages() method into an external .py class.\n",
    "Check save_image.py for the source code"
   ],
   "metadata": {
    "collapsed": false
   }
  },
  {
   "cell_type": "code",
   "execution_count": 38,
   "outputs": [
    {
     "name": "stdout",
     "output_type": "stream",
     "text": [
      "Time taken to download 30 images into the downloads folder with multiprocessing: 7.468779563903809\n"
     ]
    }
   ],
   "source": [
    "def process_images_multiprocessing():\n",
    "    images = download_images()\n",
    "    pool = multiprocessing.Pool(multiprocessing.cpu_count())\n",
    "    pool.map(save_image.saveImages,images)\n",
    "\n",
    "\n",
    "start_time = time.time()\n",
    "process_images_multiprocessing()\n",
    "duration_multiprocessing = time.time() - start_time\n",
    "print(f\"Time taken to download 30 images into the downloads folder with multiprocessing: {duration_multiprocessing}\")"
   ],
   "metadata": {
    "collapsed": false,
    "pycharm": {
     "name": "#%%\n"
    }
   }
  },
  {
   "cell_type": "markdown",
   "source": [
    "### AsyncIO\n",
    "\n",
    "With this approach we need to define all of the methods as async methods before we can use asyncio.run()\n",
    "Also we need to declare a session when working with aiohttp"
   ],
   "metadata": {
    "collapsed": false
   }
  },
  {
   "cell_type": "code",
   "execution_count": 39,
   "outputs": [
    {
     "name": "stdout",
     "output_type": "stream",
     "text": [
      "Time taken to download 30 images into the downloads folder with asyncio: 7.343893766403198\n"
     ]
    }
   ],
   "source": [
    "async def download_images_asyncio(link, session):\n",
    "    filename = link.split('/')[6].split('.')[0]\n",
    "    fileformat = link.split('/')[6].split('.')[1]\n",
    "    async with session.get(link) as response:\n",
    "        with open(\"downloads/{}.{}\".format(filename, fileformat), 'wb') as fd:\n",
    "            async for data in response.content.iter_chunked(1024):\n",
    "                fd.write(data)\n",
    "\n",
    "async def main_asyncio():\n",
    "    images = download_images()\n",
    "\n",
    "    async with aiohttp.ClientSession() as session:\n",
    "        tasks=[download_images_asyncio(image,session)for image in images]\n",
    "        return await asyncio.gather(*tasks)\n",
    "\n",
    "start_time = time.time()\n",
    "nest_asyncio.apply()\n",
    "# asyncio.run() is able for python 3.7+ users if you use an earlier version use:\n",
    "# asyncio.get_event_loop().run_until_complete()\n",
    "asyncio.run(main_asyncio())\n",
    "duration_asyncio = time.time() - start_time\n",
    "print(f\"Time taken to download 30 images into the downloads folder with asyncio: {duration_asyncio}\")"
   ],
   "metadata": {
    "collapsed": false,
    "pycharm": {
     "name": "#%%\n"
    }
   }
  },
  {
   "cell_type": "markdown",
   "source": [
    "### Let´s compare the results!"
   ],
   "metadata": {
    "collapsed": false
   }
  },
  {
   "cell_type": "code",
   "execution_count": 40,
   "outputs": [
    {
     "name": "stdout",
     "output_type": "stream",
     "text": [
      "Synchronous methods execution time: 11.287117719650269 seconds \n",
      "Threading methods execution time: 6.731784105300903 seconds\n",
      "Multiprocessing methods execution time: 7.468779563903809 seconds\n",
      "Asyncio methods execution time: 7.343893766403198 seconds\n"
     ]
    }
   ],
   "source": [
    "print(f'Synchronous methods execution time: {duration_synch} seconds \\n'\n",
    "      f'Threading methods execution time: {duration_threading} seconds\\n'\n",
    "      f'Multiprocessing methods execution time: {duration_multiprocessing} seconds\\n'\n",
    "      f'Asyncio methods execution time: {duration_asyncio} seconds')\n",
    "\n"
   ],
   "metadata": {
    "collapsed": false,
    "pycharm": {
     "name": "#%%\n"
    }
   }
  },
  {
   "cell_type": "markdown",
   "source": [
    "Now we see why concurrency is so important!\n",
    "\n",
    "Remember those results happened on my machine they WILL be different on others depending on the amount of CPUs and the CPU performance."
   ],
   "metadata": {
    "collapsed": false
   }
  }
 ],
 "metadata": {
  "kernelspec": {
   "display_name": "Python 3",
   "language": "python",
   "name": "python3"
  },
  "language_info": {
   "codemirror_mode": {
    "name": "ipython",
    "version": 2
   },
   "file_extension": ".py",
   "mimetype": "text/x-python",
   "name": "python",
   "nbconvert_exporter": "python",
   "pygments_lexer": "ipython2",
   "version": "2.7.6"
  }
 },
 "nbformat": 4,
 "nbformat_minor": 0
}