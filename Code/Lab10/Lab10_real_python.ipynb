{
 "cells": [
  {
   "cell_type": "markdown",
   "source": [
    "# Concurrency\n",
    "\n",
    "### This script have been created with a help of this RealPython tutorial: https://realpython.com/python-concurrency/\n",
    "\n",
    "### Imports"
   ],
   "metadata": {
    "collapsed": false
   }
  },
  {
   "cell_type": "code",
   "execution_count": 1,
   "outputs": [],
   "source": [
    "import requests\n",
    "import time\n",
    "\n",
    "import concurrent.futures\n",
    "import threading\n",
    "\n",
    "import asyncio\n",
    "import aiohttp\n",
    "import nest_asyncio\n",
    "\n",
    "import multiprocessing\n",
    "from Code.Lab10.service import site_multiprocessing\n",
    "from Code.Lab10.service.cpu_bound_class import cpu_bound_multiprocessing"
   ],
   "metadata": {
    "collapsed": false,
    "pycharm": {
     "name": "#%%\n"
    }
   }
  },
  {
   "cell_type": "markdown",
   "source": [
    "### Non concurrent task\n",
    "\n",
    "#### We show this version of our task to show the difference in processing time\n",
    "\n",
    "This program just downloads the content from a URL and prints its size"
   ],
   "metadata": {
    "collapsed": false
   }
  },
  {
   "cell_type": "code",
   "execution_count": 2,
   "outputs": [
    {
     "name": "stdout",
     "output_type": "stream",
     "text": [
      "Downloaded 160 in 11.795653820037842 seconds\n"
     ]
    }
   ],
   "source": [
    "def download_all_sites(sites):\n",
    "    with requests.Session() as session:\n",
    "        for url in sites:\n",
    "            session.get(url)\n",
    "\n",
    "\n",
    "sites = [\n",
    "    \"https://www.jython.org\",\n",
    "    \"http://olympus.realpython.org/dice\",\n",
    "] * 80\n",
    "start_time = time.time()\n",
    "download_all_sites(sites)\n",
    "duration = time.time() - start_time\n",
    "\n",
    "print(f\"Downloaded {len(sites)} in {duration} seconds\")"
   ],
   "metadata": {
    "collapsed": false,
    "pycharm": {
     "name": "#%%\n"
    }
   }
  },
  {
   "cell_type": "markdown",
   "source": [
    "### Threading version\n",
    "\n",
    "The overall structure stays the same with a little exception in the download_site method.\n",
    "ThreadPoolExecutor creates a pool of threads in this example we limit the max threads to 5.\n",
    "The .map() method automatically splits the work on the threads"
   ],
   "metadata": {
    "collapsed": false
   }
  },
  {
   "cell_type": "code",
   "execution_count": 3,
   "outputs": [
    {
     "name": "stdout",
     "output_type": "stream",
     "text": [
      "Downloaded 160 in 0.0049915313720703125 seconds\n"
     ]
    }
   ],
   "source": [
    "thread_local = threading.local()\n",
    "\n",
    "# Each thread creates a single session every time it calls this method and then keeps using that session\n",
    "def get_session():\n",
    "    if not hasattr(thread_local, \"session\"):\n",
    "        thread_local.session = requests.Session()\n",
    "    return thread_local.session\n",
    "\n",
    "\n",
    "def download_site(url, session):\n",
    "    session.get(url)\n",
    "\n",
    "\n",
    "def download_all_sites(sites):\n",
    "    with concurrent.futures.ThreadPoolExecutor(max_workers=5) as executor:\n",
    "        executor.map(download_site, sites)\n",
    "\n",
    "\n",
    "sites = [\n",
    "    \"https://www.jython.org\",\n",
    "    \"http://olympus.realpython.org/dice\",\n",
    "] * 80\n",
    "start_time = time.time()\n",
    "download_all_sites(sites)\n",
    "duration2 = time.time() - start_time\n",
    "print(f\"Downloaded {len(sites)} in {duration2} seconds\")"
   ],
   "metadata": {
    "collapsed": false,
    "pycharm": {
     "name": "#%%\n"
    }
   }
  },
  {
   "cell_type": "markdown",
   "source": [
    "As you can see the difference between both execution times is huge\n"
   ],
   "metadata": {
    "collapsed": false
   }
  },
  {
   "cell_type": "code",
   "execution_count": 4,
   "outputs": [
    {
     "name": "stdout",
     "output_type": "stream",
     "text": [
      "To be specific: \n",
      "First methods execution time: 11.795653820037842 seconds \n",
      "second methods execution time: 0.0049915313720703125 seconds\n"
     ]
    }
   ],
   "source": [
    "print(f'To be specific: \\n'\n",
    "      f'First methods execution time: {duration} seconds \\n'\n",
    "      f'second methods execution time: {duration2} seconds' )"
   ],
   "metadata": {
    "collapsed": false,
    "pycharm": {
     "name": "#%%\n"
    }
   }
  },
  {
   "cell_type": "markdown",
   "source": [
    "### Race condition\n",
    "Race happens when different threads interact with each other, which can result in difficult to find errors:"
   ],
   "metadata": {
    "collapsed": false
   }
  },
  {
   "cell_type": "code",
   "execution_count": 5,
   "outputs": [],
   "source": [
    "def increment_counter(fake_value):\n",
    "    global counter\n",
    "    for _ in range(100):\n",
    "        counter += 1\n",
    "\n",
    "fake_data = [x for x in range(5000)]\n",
    "counter = 0\n",
    "with concurrent.futures.ThreadPoolExecutor(max_workers=5000) as executor:\n",
    "    executor.map(increment_counter, fake_data)"
   ],
   "metadata": {
    "collapsed": false,
    "pycharm": {
     "name": "#%%\n"
    }
   }
  },
  {
   "cell_type": "markdown",
   "source": [
    "This program run on threads without any protection.\n",
    "Every thread accessed the same global variable at the same time, which could lead to serious data flaws\n",
    "\n",
    "### Asyncio Version\n",
    "\n",
    "In this version a single Python object controls how and when each task gets run.\n",
    "An important factor is the state of each task. Asyncio never gives up the control without intentionally doing so.\n",
    "With this in mind we may use our resources less thoughtfully than with threads"
   ],
   "metadata": {
    "collapsed": false
   }
  },
  {
   "cell_type": "code",
   "execution_count": 6,
   "outputs": [
    {
     "name": "stdout",
     "output_type": "stream",
     "text": [
      "Downloaded 160 sites in 0.6269824504852295 seconds\n"
     ]
    }
   ],
   "source": [
    "async def download_all_sites(sites):\n",
    "    async with aiohttp.ClientSession() as session:\n",
    "        tasks = []\n",
    "        for url in sites:\n",
    "            task = asyncio.ensure_future(session.get(url))\n",
    "            tasks.append(task)\n",
    "        await asyncio.gather(*tasks, return_exceptions=True)\n",
    "\n",
    "sites = [\n",
    "    \"https://www.jython.org\",\n",
    "    \"http://olympus.realpython.org/dice\",\n",
    "] * 80\n",
    "start_time = time.time()\n",
    "nest_asyncio.apply()\n",
    "# asyncio.run() is able for python 3.7+ users if you use an earlier version use:\n",
    "# asyncio.get_event_loop().run_until_complete()\n",
    "asyncio.run(download_all_sites(sites))\n",
    "duration3 = time.time() - start_time\n",
    "print(f\"Downloaded {len(sites)} sites in {duration3} seconds\")"
   ],
   "metadata": {
    "collapsed": false,
    "pycharm": {
     "name": "#%%\n"
    }
   }
  },
  {
   "cell_type": "markdown",
   "source": [
    "And again the execution time compare:"
   ],
   "metadata": {
    "collapsed": false
   }
  },
  {
   "cell_type": "code",
   "execution_count": 7,
   "outputs": [
    {
     "name": "stdout",
     "output_type": "stream",
     "text": [
      "To be specific: \n",
      "First methods execution time: 11.795653820037842 seconds \n",
      "Second methods execution time: 0.0049915313720703125 seconds\n",
      "Third methods execution time: 0.6269824504852295 seconds\n",
      "\n"
     ]
    }
   ],
   "source": [
    "print(f'To be specific: \\n'\n",
    "      f'First methods execution time: {duration} seconds \\n'\n",
    "      f'Second methods execution time: {duration2} seconds\\n'\n",
    "      f'Third methods execution time: {duration3} seconds\\n' )"
   ],
   "metadata": {
    "collapsed": false,
    "pycharm": {
     "name": "#%%\n"
    }
   }
  },
  {
   "cell_type": "markdown",
   "source": [
    "On my machine the second method was the fastest, on other the third may win. One for sure, the first will always lose.\n",
    "\n",
    "\n",
    "### Multiprocessing version\n",
    "\n",
    "In this version we are able to use more CPUs than only one!\n",
    "\n",
    "## Disclaimer\n",
    "Jupiter does not support multiprocessing so I had to export set_global_session and download_site_multiprocessing into an external .py class.\n",
    "Check site_multiprocessing.py for the source code"
   ],
   "metadata": {
    "collapsed": false
   }
  },
  {
   "cell_type": "code",
   "execution_count": 8,
   "outputs": [
    {
     "name": "stdout",
     "output_type": "stream",
     "text": [
      "Downloaded 160 in 2.2889537811279297 seconds\n"
     ]
    }
   ],
   "source": [
    "def download_all_sites(sites):\n",
    "    with multiprocessing.Pool(initializer=site_multiprocessing.set_global_session) as pool:\n",
    "        pool.map(site_multiprocessing.download_site_multiprocessing, sites)\n",
    "\n",
    "sites = [\n",
    "    \"https://www.jython.org\",\n",
    "    \"http://olympus.realpython.org/dice\",\n",
    "] * 80\n",
    "start_time = time.time()\n",
    "download_all_sites(sites)\n",
    "duration4 = time.time() - start_time\n",
    "print(f\"Downloaded {len(sites)} in {duration4} seconds\")"
   ],
   "metadata": {
    "collapsed": false,
    "pycharm": {
     "name": "#%%\n"
    }
   }
  },
  {
   "cell_type": "markdown",
   "source": [
    "As we can see this one is much slower than the previous examples but may be very useful in specific cases\n",
    "This delay occurred, because multiprocessing is implemented by creating a separate Python interpreter\n",
    "\n",
    "Complete compare:"
   ],
   "metadata": {
    "collapsed": false
   }
  },
  {
   "cell_type": "code",
   "execution_count": 9,
   "outputs": [
    {
     "name": "stdout",
     "output_type": "stream",
     "text": [
      "To be specific: \n",
      "First methods execution time: 11.795653820037842 seconds \n",
      "Second methods execution time: 0.0049915313720703125 seconds\n",
      "Third methods execution time: 0.6269824504852295 seconds\n",
      "Fourth methods execution time: 2.2889537811279297 seconds\n"
     ]
    }
   ],
   "source": [
    "print(f'To be specific: \\n'\n",
    "      f'First methods execution time: {duration} seconds \\n'\n",
    "      f'Second methods execution time: {duration2} seconds\\n'\n",
    "      f'Third methods execution time: {duration3} seconds\\n'\n",
    "      f'Fourth methods execution time: {duration4} seconds')"
   ],
   "metadata": {
    "collapsed": false,
    "pycharm": {
     "name": "#%%\n"
    }
   }
  },
  {
   "cell_type": "markdown",
   "source": [
    "## Speed up a CPU-Bound program\n",
    "\n",
    "### CPU-Bound Synchronous version\n",
    "\n",
    "This program computes a sum of squares of each number from 0 to the passed argument value\n",
    "We pass a large number so it should take a while to compute"
   ],
   "metadata": {
    "collapsed": false
   }
  },
  {
   "cell_type": "code",
   "execution_count": 10,
   "outputs": [
    {
     "name": "stdout",
     "output_type": "stream",
     "text": [
      "Duration 10.971799850463867 seconds\n"
     ]
    }
   ],
   "source": [
    "def cpu_bound(number):\n",
    "    return sum(i * i for i in range(number))\n",
    "\n",
    "\n",
    "def find_sums(numbers):\n",
    "    for number in numbers:\n",
    "        cpu_bound(number)\n",
    "\n",
    "\n",
    "numbers = [5_000_000 + x for x in range(20)]\n",
    "\n",
    "start_time = time.time()\n",
    "find_sums(numbers)\n",
    "duration_cpu_bound_synchronous = time.time() - start_time\n",
    "print(f\"Duration {duration_cpu_bound_synchronous} seconds\")"
   ],
   "metadata": {
    "collapsed": false,
    "pycharm": {
     "name": "#%%\n"
    }
   }
  },
  {
   "cell_type": "markdown",
   "source": [
    "### Threading version"
   ],
   "metadata": {
    "collapsed": false
   }
  },
  {
   "cell_type": "code",
   "execution_count": 11,
   "outputs": [
    {
     "name": "stdout",
     "output_type": "stream",
     "text": [
      "Duration 10.291450500488281 seconds\n"
     ]
    }
   ],
   "source": [
    "def find_sums_threading(numbers):\n",
    "    with concurrent.futures.ThreadPoolExecutor(max_workers=5) as executor:\n",
    "        executor.map(cpu_bound, numbers)\n",
    "\n",
    "numbers = [5_000_000 + x for x in range(20)]\n",
    "\n",
    "start_time = time.time()\n",
    "find_sums_threading(numbers)\n",
    "duration_cpu_bound_threads = time.time() - start_time\n",
    "print(f\"Duration {duration_cpu_bound_threads} seconds\")\n"
   ],
   "metadata": {
    "collapsed": false,
    "pycharm": {
     "name": "#%%\n"
    }
   }
  },
  {
   "cell_type": "markdown",
   "source": [
    "### Asyncio version"
   ],
   "metadata": {
    "collapsed": false
   }
  },
  {
   "cell_type": "code",
   "execution_count": 12,
   "outputs": [
    {
     "name": "stdout",
     "output_type": "stream",
     "text": [
      "Downloaded 160 sites in 11.848283052444458 seconds\n"
     ]
    }
   ],
   "source": [
    "async def find_sum_asyncio(numbers):\n",
    "    tasks=[]\n",
    "    for number in numbers:\n",
    "        task = asyncio.ensure_future(cpu_bound_asyncio(number))\n",
    "        tasks.append(task)\n",
    "    await asyncio.gather(*tasks, return_exceptions=True)\n",
    "\n",
    "\n",
    "async def cpu_bound_asyncio(number):\n",
    "    return sum(i * i for i in range(number))\n",
    "\n",
    "\n",
    "start_time = time.time()\n",
    "nest_asyncio.apply()\n",
    "asyncio.run(find_sum_asyncio(numbers))\n",
    "duration_cpu_bound_asyncio = time.time() - start_time\n",
    "print(f\"Downloaded {len(sites)} sites in {duration_cpu_bound_asyncio} seconds\")"
   ],
   "metadata": {
    "collapsed": false,
    "pycharm": {
     "name": "#%%\n"
    }
   }
  },
  {
   "cell_type": "markdown",
   "source": [
    "Let us see the results:"
   ],
   "metadata": {
    "collapsed": false
   }
  },
  {
   "cell_type": "code",
   "execution_count": 13,
   "outputs": [
    {
     "name": "stdout",
     "output_type": "stream",
     "text": [
      "Synchronous methods execution time: 10.971799850463867 seconds \n",
      "Threading methods execution time: 10.291450500488281 seconds\n",
      "Asyncio methods execution time: 11.848283052444458 seconds\n"
     ]
    }
   ],
   "source": [
    "print(f'Synchronous methods execution time: {duration_cpu_bound_synchronous} seconds \\n'\n",
    "      f'Threading methods execution time: {duration_cpu_bound_threads} seconds\\n'\n",
    "      f'Asyncio methods execution time: {duration_cpu_bound_asyncio} seconds')\n"
   ],
   "metadata": {
    "collapsed": false,
    "pycharm": {
     "name": "#%%\n"
    }
   }
  },
  {
   "cell_type": "markdown",
   "source": [
    "As we can see in this case using Threading and Asyncio is not worth investing the time, as the threading method is almost as slow as the synchronous method and Asyncio is even slower!\n"
   ],
   "metadata": {
    "collapsed": false
   }
  },
  {
   "cell_type": "markdown",
   "source": [
    "### Let´s try using Multiprocessing!\n",
    "\n",
    "\n",
    "## Disclaimer\n",
    "Jupiter does not support multiprocessing so I had to export cpu_bound_multiprocessing into an external .py class.\n",
    "Check cpu_bound_class.py for the source code"
   ],
   "metadata": {
    "collapsed": false
   }
  },
  {
   "cell_type": "code",
   "execution_count": 14,
   "outputs": [
    {
     "name": "stdout",
     "output_type": "stream",
     "text": [
      "Duration 3.6935839653015137 seconds\n"
     ]
    }
   ],
   "source": [
    "def find_sums_multiprocessing(numbers):\n",
    "    with multiprocessing.Pool() as pool:\n",
    "        pool.map(cpu_bound_multiprocessing, numbers)\n",
    "\n",
    "\n",
    "numbers = [5_000_000 + x for x in range(20)]\n",
    "\n",
    "start_time = time.time()\n",
    "find_sums_multiprocessing(numbers)\n",
    "duration_cpu_bound_multiprocessing = time.time() - start_time\n",
    "print(f\"Duration {duration_cpu_bound_multiprocessing} seconds\")"
   ],
   "metadata": {
    "collapsed": false,
    "pycharm": {
     "name": "#%%\n"
    }
   }
  },
  {
   "cell_type": "markdown",
   "source": [
    "Now this is what I call performance!\n",
    "\n",
    "And a direct compare, because... why not"
   ],
   "metadata": {
    "collapsed": false
   }
  },
  {
   "cell_type": "code",
   "execution_count": 15,
   "outputs": [
    {
     "name": "stdout",
     "output_type": "stream",
     "text": [
      "Synchronous methods execution time: 10.971799850463867 seconds \n",
      "Threading methods execution time: 10.291450500488281 seconds\n",
      "Asyncio methods execution time: 11.848283052444458 seconds\n",
      "Multiprocessing methods execution time: 3.6935839653015137 seconds\n"
     ]
    }
   ],
   "source": [
    "print(f'Synchronous methods execution time: {duration_cpu_bound_synchronous} seconds \\n'\n",
    "      f'Threading methods execution time: {duration_cpu_bound_threads} seconds\\n'\n",
    "      f'Asyncio methods execution time: {duration_cpu_bound_asyncio} seconds\\n'\n",
    "      f'Multiprocessing methods execution time: {duration_cpu_bound_multiprocessing} seconds')\n"
   ],
   "metadata": {
    "collapsed": false,
    "pycharm": {
     "name": "#%%\n"
    }
   }
  }
 ],
 "metadata": {
  "kernelspec": {
   "display_name": "Python 3",
   "language": "python",
   "name": "python3"
  },
  "language_info": {
   "codemirror_mode": {
    "name": "ipython",
    "version": 2
   },
   "file_extension": ".py",
   "mimetype": "text/x-python",
   "name": "python",
   "nbconvert_exporter": "python",
   "pygments_lexer": "ipython2",
   "version": "2.7.6"
  }
 },
 "nbformat": 4,
 "nbformat_minor": 0
}