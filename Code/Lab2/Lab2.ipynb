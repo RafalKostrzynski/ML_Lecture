{
 "cells": [
  {
   "cell_type": "markdown",
   "metadata": {
    "collapsed": true,
    "pycharm": {
     "name": "#%% md\n"
    }
   },
   "source": [
    "## Imports"
   ]
  },
  {
   "cell_type": "code",
   "execution_count": 1,
   "outputs": [],
   "source": [
    "import pandas as pd"
   ],
   "metadata": {
    "collapsed": false,
    "pycharm": {
     "name": "#%%\n"
    }
   }
  },
  {
   "cell_type": "markdown",
   "source": [
    "## Read data"
   ],
   "metadata": {
    "collapsed": false
   }
  },
  {
   "cell_type": "code",
   "execution_count": 2,
   "outputs": [
    {
     "data": {
      "text/plain": "      id       marka        model  rok_produkcji rodzaj_silnika  \\\n0      0      Nissan  X-Trail III         2014.0         Diesel   \n1      1         BMW       X1 E84         2012.0         Diesel   \n2      2        Opel     Zafira A         2004.0    Benzyna+CNG   \n3      3     Hyundai        i10 I         2008.0        Benzyna   \n4      4  Volkswagen           CC         2010.0         Diesel   \n..   ...         ...          ...            ...            ...   \n995  995  Alfa Romeo          159         2009.0         Diesel   \n996  996       Škoda     Fabia II         2012.0        Benzyna   \n997  997     Renault        Modus         2004.0        Benzyna   \n998  998        Audi        A3 8L         2000.0        Benzyna   \n999  999       Volvo      XC 60 I         2016.0         Diesel   \n\n     pojemnosc_silnika  przebieg      cena     wojewodztwo  \n0               1600.0  160000.0   75900.0    Dolnośląskie  \n1               2000.0  149000.0   70900.0  Świętokrzyskie  \n2               1600.0   99000.0    9800.0        Opolskie  \n3               1100.0   93000.0   11900.0         Łódzkie  \n4               1968.0  127428.0   49900.0   Wielkopolskie  \n..                 ...       ...       ...             ...  \n995             2387.0  182000.0   33900.0     Małopolskie  \n996             1200.0   42700.0   25400.0       Lubelskie  \n997             1200.0  168111.0   10900.0         Łódzkie  \n998             1595.0  226500.0    5400.0     Małopolskie  \n999             1969.0   13617.0  136900.0     Małopolskie  \n\n[1000 rows x 9 columns]",
      "text/html": "<div>\n<style scoped>\n    .dataframe tbody tr th:only-of-type {\n        vertical-align: middle;\n    }\n\n    .dataframe tbody tr th {\n        vertical-align: top;\n    }\n\n    .dataframe thead th {\n        text-align: right;\n    }\n</style>\n<table border=\"1\" class=\"dataframe\">\n  <thead>\n    <tr style=\"text-align: right;\">\n      <th></th>\n      <th>id</th>\n      <th>marka</th>\n      <th>model</th>\n      <th>rok_produkcji</th>\n      <th>rodzaj_silnika</th>\n      <th>pojemnosc_silnika</th>\n      <th>przebieg</th>\n      <th>cena</th>\n      <th>wojewodztwo</th>\n    </tr>\n  </thead>\n  <tbody>\n    <tr>\n      <th>0</th>\n      <td>0</td>\n      <td>Nissan</td>\n      <td>X-Trail III</td>\n      <td>2014.0</td>\n      <td>Diesel</td>\n      <td>1600.0</td>\n      <td>160000.0</td>\n      <td>75900.0</td>\n      <td>Dolnośląskie</td>\n    </tr>\n    <tr>\n      <th>1</th>\n      <td>1</td>\n      <td>BMW</td>\n      <td>X1 E84</td>\n      <td>2012.0</td>\n      <td>Diesel</td>\n      <td>2000.0</td>\n      <td>149000.0</td>\n      <td>70900.0</td>\n      <td>Świętokrzyskie</td>\n    </tr>\n    <tr>\n      <th>2</th>\n      <td>2</td>\n      <td>Opel</td>\n      <td>Zafira A</td>\n      <td>2004.0</td>\n      <td>Benzyna+CNG</td>\n      <td>1600.0</td>\n      <td>99000.0</td>\n      <td>9800.0</td>\n      <td>Opolskie</td>\n    </tr>\n    <tr>\n      <th>3</th>\n      <td>3</td>\n      <td>Hyundai</td>\n      <td>i10 I</td>\n      <td>2008.0</td>\n      <td>Benzyna</td>\n      <td>1100.0</td>\n      <td>93000.0</td>\n      <td>11900.0</td>\n      <td>Łódzkie</td>\n    </tr>\n    <tr>\n      <th>4</th>\n      <td>4</td>\n      <td>Volkswagen</td>\n      <td>CC</td>\n      <td>2010.0</td>\n      <td>Diesel</td>\n      <td>1968.0</td>\n      <td>127428.0</td>\n      <td>49900.0</td>\n      <td>Wielkopolskie</td>\n    </tr>\n    <tr>\n      <th>...</th>\n      <td>...</td>\n      <td>...</td>\n      <td>...</td>\n      <td>...</td>\n      <td>...</td>\n      <td>...</td>\n      <td>...</td>\n      <td>...</td>\n      <td>...</td>\n    </tr>\n    <tr>\n      <th>995</th>\n      <td>995</td>\n      <td>Alfa Romeo</td>\n      <td>159</td>\n      <td>2009.0</td>\n      <td>Diesel</td>\n      <td>2387.0</td>\n      <td>182000.0</td>\n      <td>33900.0</td>\n      <td>Małopolskie</td>\n    </tr>\n    <tr>\n      <th>996</th>\n      <td>996</td>\n      <td>Škoda</td>\n      <td>Fabia II</td>\n      <td>2012.0</td>\n      <td>Benzyna</td>\n      <td>1200.0</td>\n      <td>42700.0</td>\n      <td>25400.0</td>\n      <td>Lubelskie</td>\n    </tr>\n    <tr>\n      <th>997</th>\n      <td>997</td>\n      <td>Renault</td>\n      <td>Modus</td>\n      <td>2004.0</td>\n      <td>Benzyna</td>\n      <td>1200.0</td>\n      <td>168111.0</td>\n      <td>10900.0</td>\n      <td>Łódzkie</td>\n    </tr>\n    <tr>\n      <th>998</th>\n      <td>998</td>\n      <td>Audi</td>\n      <td>A3 8L</td>\n      <td>2000.0</td>\n      <td>Benzyna</td>\n      <td>1595.0</td>\n      <td>226500.0</td>\n      <td>5400.0</td>\n      <td>Małopolskie</td>\n    </tr>\n    <tr>\n      <th>999</th>\n      <td>999</td>\n      <td>Volvo</td>\n      <td>XC 60 I</td>\n      <td>2016.0</td>\n      <td>Diesel</td>\n      <td>1969.0</td>\n      <td>13617.0</td>\n      <td>136900.0</td>\n      <td>Małopolskie</td>\n    </tr>\n  </tbody>\n</table>\n<p>1000 rows × 9 columns</p>\n</div>"
     },
     "execution_count": 2,
     "metadata": {},
     "output_type": "execute_result"
    }
   ],
   "source": [
    "autos = pd.read_csv(\"samochody1tys.csv\")\n",
    "\n",
    "autos"
   ],
   "metadata": {
    "collapsed": false,
    "pycharm": {
     "name": "#%%\n"
    }
   }
  },
  {
   "cell_type": "markdown",
   "source": [
    "## Wypisanie pierwszych ośmiu wierszy całej DataFrame"
   ],
   "metadata": {
    "collapsed": false
   }
  },
  {
   "cell_type": "code",
   "execution_count": 3,
   "outputs": [
    {
     "data": {
      "text/plain": "   id       marka        model  rok_produkcji rodzaj_silnika  \\\n0   0      Nissan  X-Trail III         2014.0         Diesel   \n1   1         BMW       X1 E84         2012.0         Diesel   \n2   2        Opel     Zafira A         2004.0    Benzyna+CNG   \n3   3     Hyundai        i10 I         2008.0        Benzyna   \n4   4  Volkswagen           CC         2010.0         Diesel   \n5   5        Fiat          500         2014.0    Elektryczny   \n6   6      Nissan    X-Trail I         2004.0         Diesel   \n7   7        Seat    Toledo II         2000.0        Benzyna   \n\n   pojemnosc_silnika  przebieg     cena     wojewodztwo  \n0             1600.0  160000.0  75900.0    Dolnośląskie  \n1             2000.0  149000.0  70900.0  Świętokrzyskie  \n2             1600.0   99000.0   9800.0        Opolskie  \n3             1100.0   93000.0  11900.0         Łódzkie  \n4             1968.0  127428.0  49900.0   Wielkopolskie  \n5                1.0   36800.0  74200.0         Śląskie  \n6             2200.0  174000.0  23200.0    Dolnośląskie  \n7             1800.0  140700.0   8150.0       Pomorskie  ",
      "text/html": "<div>\n<style scoped>\n    .dataframe tbody tr th:only-of-type {\n        vertical-align: middle;\n    }\n\n    .dataframe tbody tr th {\n        vertical-align: top;\n    }\n\n    .dataframe thead th {\n        text-align: right;\n    }\n</style>\n<table border=\"1\" class=\"dataframe\">\n  <thead>\n    <tr style=\"text-align: right;\">\n      <th></th>\n      <th>id</th>\n      <th>marka</th>\n      <th>model</th>\n      <th>rok_produkcji</th>\n      <th>rodzaj_silnika</th>\n      <th>pojemnosc_silnika</th>\n      <th>przebieg</th>\n      <th>cena</th>\n      <th>wojewodztwo</th>\n    </tr>\n  </thead>\n  <tbody>\n    <tr>\n      <th>0</th>\n      <td>0</td>\n      <td>Nissan</td>\n      <td>X-Trail III</td>\n      <td>2014.0</td>\n      <td>Diesel</td>\n      <td>1600.0</td>\n      <td>160000.0</td>\n      <td>75900.0</td>\n      <td>Dolnośląskie</td>\n    </tr>\n    <tr>\n      <th>1</th>\n      <td>1</td>\n      <td>BMW</td>\n      <td>X1 E84</td>\n      <td>2012.0</td>\n      <td>Diesel</td>\n      <td>2000.0</td>\n      <td>149000.0</td>\n      <td>70900.0</td>\n      <td>Świętokrzyskie</td>\n    </tr>\n    <tr>\n      <th>2</th>\n      <td>2</td>\n      <td>Opel</td>\n      <td>Zafira A</td>\n      <td>2004.0</td>\n      <td>Benzyna+CNG</td>\n      <td>1600.0</td>\n      <td>99000.0</td>\n      <td>9800.0</td>\n      <td>Opolskie</td>\n    </tr>\n    <tr>\n      <th>3</th>\n      <td>3</td>\n      <td>Hyundai</td>\n      <td>i10 I</td>\n      <td>2008.0</td>\n      <td>Benzyna</td>\n      <td>1100.0</td>\n      <td>93000.0</td>\n      <td>11900.0</td>\n      <td>Łódzkie</td>\n    </tr>\n    <tr>\n      <th>4</th>\n      <td>4</td>\n      <td>Volkswagen</td>\n      <td>CC</td>\n      <td>2010.0</td>\n      <td>Diesel</td>\n      <td>1968.0</td>\n      <td>127428.0</td>\n      <td>49900.0</td>\n      <td>Wielkopolskie</td>\n    </tr>\n    <tr>\n      <th>5</th>\n      <td>5</td>\n      <td>Fiat</td>\n      <td>500</td>\n      <td>2014.0</td>\n      <td>Elektryczny</td>\n      <td>1.0</td>\n      <td>36800.0</td>\n      <td>74200.0</td>\n      <td>Śląskie</td>\n    </tr>\n    <tr>\n      <th>6</th>\n      <td>6</td>\n      <td>Nissan</td>\n      <td>X-Trail I</td>\n      <td>2004.0</td>\n      <td>Diesel</td>\n      <td>2200.0</td>\n      <td>174000.0</td>\n      <td>23200.0</td>\n      <td>Dolnośląskie</td>\n    </tr>\n    <tr>\n      <th>7</th>\n      <td>7</td>\n      <td>Seat</td>\n      <td>Toledo II</td>\n      <td>2000.0</td>\n      <td>Benzyna</td>\n      <td>1800.0</td>\n      <td>140700.0</td>\n      <td>8150.0</td>\n      <td>Pomorskie</td>\n    </tr>\n  </tbody>\n</table>\n</div>"
     },
     "execution_count": 3,
     "metadata": {},
     "output_type": "execute_result"
    }
   ],
   "source": [
    "autos.head(8)\n"
   ],
   "metadata": {
    "collapsed": false,
    "pycharm": {
     "name": "#%%\n"
    }
   }
  },
  {
   "cell_type": "markdown",
   "source": [
    "### Pogrupowanie wszystkich wartości i wypisanie w formie dwóch kolumn: zmienna - wartość"
   ],
   "metadata": {
    "collapsed": false
   }
  },
  {
   "cell_type": "code",
   "execution_count": 4,
   "outputs": [
    {
     "data": {
      "text/plain": "         variable        value\n0              id            0\n1              id            1\n2              id            2\n3              id            3\n4              id            4\n...           ...          ...\n8995  wojewodztwo  Małopolskie\n8996  wojewodztwo    Lubelskie\n8997  wojewodztwo      Łódzkie\n8998  wojewodztwo  Małopolskie\n8999  wojewodztwo  Małopolskie\n\n[9000 rows x 2 columns]",
      "text/html": "<div>\n<style scoped>\n    .dataframe tbody tr th:only-of-type {\n        vertical-align: middle;\n    }\n\n    .dataframe tbody tr th {\n        vertical-align: top;\n    }\n\n    .dataframe thead th {\n        text-align: right;\n    }\n</style>\n<table border=\"1\" class=\"dataframe\">\n  <thead>\n    <tr style=\"text-align: right;\">\n      <th></th>\n      <th>variable</th>\n      <th>value</th>\n    </tr>\n  </thead>\n  <tbody>\n    <tr>\n      <th>0</th>\n      <td>id</td>\n      <td>0</td>\n    </tr>\n    <tr>\n      <th>1</th>\n      <td>id</td>\n      <td>1</td>\n    </tr>\n    <tr>\n      <th>2</th>\n      <td>id</td>\n      <td>2</td>\n    </tr>\n    <tr>\n      <th>3</th>\n      <td>id</td>\n      <td>3</td>\n    </tr>\n    <tr>\n      <th>4</th>\n      <td>id</td>\n      <td>4</td>\n    </tr>\n    <tr>\n      <th>...</th>\n      <td>...</td>\n      <td>...</td>\n    </tr>\n    <tr>\n      <th>8995</th>\n      <td>wojewodztwo</td>\n      <td>Małopolskie</td>\n    </tr>\n    <tr>\n      <th>8996</th>\n      <td>wojewodztwo</td>\n      <td>Lubelskie</td>\n    </tr>\n    <tr>\n      <th>8997</th>\n      <td>wojewodztwo</td>\n      <td>Łódzkie</td>\n    </tr>\n    <tr>\n      <th>8998</th>\n      <td>wojewodztwo</td>\n      <td>Małopolskie</td>\n    </tr>\n    <tr>\n      <th>8999</th>\n      <td>wojewodztwo</td>\n      <td>Małopolskie</td>\n    </tr>\n  </tbody>\n</table>\n<p>9000 rows × 2 columns</p>\n</div>"
     },
     "execution_count": 4,
     "metadata": {},
     "output_type": "execute_result"
    }
   ],
   "source": [
    "pd.melt(autos)"
   ],
   "metadata": {
    "collapsed": false,
    "pycharm": {
     "name": "#%%\n"
    }
   }
  },
  {
   "cell_type": "markdown",
   "source": [
    "## Zmiana nazw kolumn"
   ],
   "metadata": {
    "collapsed": false
   }
  },
  {
   "cell_type": "code",
   "execution_count": 5,
   "outputs": [
    {
     "data": {
      "text/plain": "     index        mark        model  production_year  engine_type  \\\n0        0      Nissan  X-Trail III           2014.0       Diesel   \n1        1         BMW       X1 E84           2012.0       Diesel   \n2        2        Opel     Zafira A           2004.0  Benzyna+CNG   \n3        3     Hyundai        i10 I           2008.0      Benzyna   \n4        4  Volkswagen           CC           2010.0       Diesel   \n..     ...         ...          ...              ...          ...   \n995    995  Alfa Romeo          159           2009.0       Diesel   \n996    996       Škoda     Fabia II           2012.0      Benzyna   \n997    997     Renault        Modus           2004.0      Benzyna   \n998    998        Audi        A3 8L           2000.0      Benzyna   \n999    999       Volvo      XC 60 I           2016.0       Diesel   \n\n     engine_capacity   mileage     price        province  \n0             1600.0  160000.0   75900.0    Dolnośląskie  \n1             2000.0  149000.0   70900.0  Świętokrzyskie  \n2             1600.0   99000.0    9800.0        Opolskie  \n3             1100.0   93000.0   11900.0         Łódzkie  \n4             1968.0  127428.0   49900.0   Wielkopolskie  \n..               ...       ...       ...             ...  \n995           2387.0  182000.0   33900.0     Małopolskie  \n996           1200.0   42700.0   25400.0       Lubelskie  \n997           1200.0  168111.0   10900.0         Łódzkie  \n998           1595.0  226500.0    5400.0     Małopolskie  \n999           1969.0   13617.0  136900.0     Małopolskie  \n\n[1000 rows x 9 columns]",
      "text/html": "<div>\n<style scoped>\n    .dataframe tbody tr th:only-of-type {\n        vertical-align: middle;\n    }\n\n    .dataframe tbody tr th {\n        vertical-align: top;\n    }\n\n    .dataframe thead th {\n        text-align: right;\n    }\n</style>\n<table border=\"1\" class=\"dataframe\">\n  <thead>\n    <tr style=\"text-align: right;\">\n      <th></th>\n      <th>index</th>\n      <th>mark</th>\n      <th>model</th>\n      <th>production_year</th>\n      <th>engine_type</th>\n      <th>engine_capacity</th>\n      <th>mileage</th>\n      <th>price</th>\n      <th>province</th>\n    </tr>\n  </thead>\n  <tbody>\n    <tr>\n      <th>0</th>\n      <td>0</td>\n      <td>Nissan</td>\n      <td>X-Trail III</td>\n      <td>2014.0</td>\n      <td>Diesel</td>\n      <td>1600.0</td>\n      <td>160000.0</td>\n      <td>75900.0</td>\n      <td>Dolnośląskie</td>\n    </tr>\n    <tr>\n      <th>1</th>\n      <td>1</td>\n      <td>BMW</td>\n      <td>X1 E84</td>\n      <td>2012.0</td>\n      <td>Diesel</td>\n      <td>2000.0</td>\n      <td>149000.0</td>\n      <td>70900.0</td>\n      <td>Świętokrzyskie</td>\n    </tr>\n    <tr>\n      <th>2</th>\n      <td>2</td>\n      <td>Opel</td>\n      <td>Zafira A</td>\n      <td>2004.0</td>\n      <td>Benzyna+CNG</td>\n      <td>1600.0</td>\n      <td>99000.0</td>\n      <td>9800.0</td>\n      <td>Opolskie</td>\n    </tr>\n    <tr>\n      <th>3</th>\n      <td>3</td>\n      <td>Hyundai</td>\n      <td>i10 I</td>\n      <td>2008.0</td>\n      <td>Benzyna</td>\n      <td>1100.0</td>\n      <td>93000.0</td>\n      <td>11900.0</td>\n      <td>Łódzkie</td>\n    </tr>\n    <tr>\n      <th>4</th>\n      <td>4</td>\n      <td>Volkswagen</td>\n      <td>CC</td>\n      <td>2010.0</td>\n      <td>Diesel</td>\n      <td>1968.0</td>\n      <td>127428.0</td>\n      <td>49900.0</td>\n      <td>Wielkopolskie</td>\n    </tr>\n    <tr>\n      <th>...</th>\n      <td>...</td>\n      <td>...</td>\n      <td>...</td>\n      <td>...</td>\n      <td>...</td>\n      <td>...</td>\n      <td>...</td>\n      <td>...</td>\n      <td>...</td>\n    </tr>\n    <tr>\n      <th>995</th>\n      <td>995</td>\n      <td>Alfa Romeo</td>\n      <td>159</td>\n      <td>2009.0</td>\n      <td>Diesel</td>\n      <td>2387.0</td>\n      <td>182000.0</td>\n      <td>33900.0</td>\n      <td>Małopolskie</td>\n    </tr>\n    <tr>\n      <th>996</th>\n      <td>996</td>\n      <td>Škoda</td>\n      <td>Fabia II</td>\n      <td>2012.0</td>\n      <td>Benzyna</td>\n      <td>1200.0</td>\n      <td>42700.0</td>\n      <td>25400.0</td>\n      <td>Lubelskie</td>\n    </tr>\n    <tr>\n      <th>997</th>\n      <td>997</td>\n      <td>Renault</td>\n      <td>Modus</td>\n      <td>2004.0</td>\n      <td>Benzyna</td>\n      <td>1200.0</td>\n      <td>168111.0</td>\n      <td>10900.0</td>\n      <td>Łódzkie</td>\n    </tr>\n    <tr>\n      <th>998</th>\n      <td>998</td>\n      <td>Audi</td>\n      <td>A3 8L</td>\n      <td>2000.0</td>\n      <td>Benzyna</td>\n      <td>1595.0</td>\n      <td>226500.0</td>\n      <td>5400.0</td>\n      <td>Małopolskie</td>\n    </tr>\n    <tr>\n      <th>999</th>\n      <td>999</td>\n      <td>Volvo</td>\n      <td>XC 60 I</td>\n      <td>2016.0</td>\n      <td>Diesel</td>\n      <td>1969.0</td>\n      <td>13617.0</td>\n      <td>136900.0</td>\n      <td>Małopolskie</td>\n    </tr>\n  </tbody>\n</table>\n<p>1000 rows × 9 columns</p>\n</div>"
     },
     "execution_count": 5,
     "metadata": {},
     "output_type": "execute_result"
    }
   ],
   "source": [
    "autos.rename(columns={\n",
    "    'id':'index',\n",
    "    'marka':'mark',\n",
    "    'rok_produkcji':'production_year',\n",
    "    'rodzaj_silnika':'engine_type',\n",
    "    'pojemnosc_silnika':'engine_capacity',\n",
    "    'przebieg':'mileage',\n",
    "    'cena':'price',\n",
    "    'wojewodztwo':'province'\n",
    "})"
   ],
   "metadata": {
    "collapsed": false,
    "pycharm": {
     "name": "#%%\n"
    }
   }
  },
  {
   "cell_type": "markdown",
   "source": [
    "### Wypisanie danych samochodów które są młodsze niż 10 lat oraz zresetowanie indexu"
   ],
   "metadata": {
    "collapsed": false
   }
  },
  {
   "cell_type": "code",
   "execution_count": 6,
   "outputs": [
    {
     "data": {
      "text/plain": "     index   id       marka        model  rok_produkcji rodzaj_silnika  \\\n0        0    0      Nissan  X-Trail III         2014.0         Diesel   \n1        1    1         BMW       X1 E84         2012.0         Diesel   \n2        5    5        Fiat          500         2014.0    Elektryczny   \n3        8    8  Volkswagen           CC         2014.0         Diesel   \n4        9    9      Nissan         Juke         2016.0        Benzyna   \n..     ...  ...         ...          ...            ...            ...   \n397    988  988         BMW           M2         2017.0        Benzyna   \n398    992  992     Renault      Clio IV         2017.0        Benzyna   \n399    993  993        Fiat      Tipo II         2017.0        Benzyna   \n400    996  996       Škoda     Fabia II         2012.0        Benzyna   \n401    999  999       Volvo      XC 60 I         2016.0         Diesel   \n\n     pojemnosc_silnika  przebieg      cena     wojewodztwo  \n0               1600.0  160000.0   75900.0    Dolnośląskie  \n1               2000.0  149000.0   70900.0  Świętokrzyskie  \n2                  1.0   36800.0   74200.0         Śląskie  \n3               1968.0   52000.0   97000.0       Pomorskie  \n4               1197.0   18000.0   56900.0     Mazowieckie  \n..                 ...       ...       ...             ...  \n397             2979.0    4000.0  271976.0     Małopolskie  \n398              898.0       1.0   58000.0         Śląskie  \n399             1400.0       2.0   47350.0     Mazowieckie  \n400             1200.0   42700.0   25400.0       Lubelskie  \n401             1969.0   13617.0  136900.0     Małopolskie  \n\n[402 rows x 10 columns]",
      "text/html": "<div>\n<style scoped>\n    .dataframe tbody tr th:only-of-type {\n        vertical-align: middle;\n    }\n\n    .dataframe tbody tr th {\n        vertical-align: top;\n    }\n\n    .dataframe thead th {\n        text-align: right;\n    }\n</style>\n<table border=\"1\" class=\"dataframe\">\n  <thead>\n    <tr style=\"text-align: right;\">\n      <th></th>\n      <th>index</th>\n      <th>id</th>\n      <th>marka</th>\n      <th>model</th>\n      <th>rok_produkcji</th>\n      <th>rodzaj_silnika</th>\n      <th>pojemnosc_silnika</th>\n      <th>przebieg</th>\n      <th>cena</th>\n      <th>wojewodztwo</th>\n    </tr>\n  </thead>\n  <tbody>\n    <tr>\n      <th>0</th>\n      <td>0</td>\n      <td>0</td>\n      <td>Nissan</td>\n      <td>X-Trail III</td>\n      <td>2014.0</td>\n      <td>Diesel</td>\n      <td>1600.0</td>\n      <td>160000.0</td>\n      <td>75900.0</td>\n      <td>Dolnośląskie</td>\n    </tr>\n    <tr>\n      <th>1</th>\n      <td>1</td>\n      <td>1</td>\n      <td>BMW</td>\n      <td>X1 E84</td>\n      <td>2012.0</td>\n      <td>Diesel</td>\n      <td>2000.0</td>\n      <td>149000.0</td>\n      <td>70900.0</td>\n      <td>Świętokrzyskie</td>\n    </tr>\n    <tr>\n      <th>2</th>\n      <td>5</td>\n      <td>5</td>\n      <td>Fiat</td>\n      <td>500</td>\n      <td>2014.0</td>\n      <td>Elektryczny</td>\n      <td>1.0</td>\n      <td>36800.0</td>\n      <td>74200.0</td>\n      <td>Śląskie</td>\n    </tr>\n    <tr>\n      <th>3</th>\n      <td>8</td>\n      <td>8</td>\n      <td>Volkswagen</td>\n      <td>CC</td>\n      <td>2014.0</td>\n      <td>Diesel</td>\n      <td>1968.0</td>\n      <td>52000.0</td>\n      <td>97000.0</td>\n      <td>Pomorskie</td>\n    </tr>\n    <tr>\n      <th>4</th>\n      <td>9</td>\n      <td>9</td>\n      <td>Nissan</td>\n      <td>Juke</td>\n      <td>2016.0</td>\n      <td>Benzyna</td>\n      <td>1197.0</td>\n      <td>18000.0</td>\n      <td>56900.0</td>\n      <td>Mazowieckie</td>\n    </tr>\n    <tr>\n      <th>...</th>\n      <td>...</td>\n      <td>...</td>\n      <td>...</td>\n      <td>...</td>\n      <td>...</td>\n      <td>...</td>\n      <td>...</td>\n      <td>...</td>\n      <td>...</td>\n      <td>...</td>\n    </tr>\n    <tr>\n      <th>397</th>\n      <td>988</td>\n      <td>988</td>\n      <td>BMW</td>\n      <td>M2</td>\n      <td>2017.0</td>\n      <td>Benzyna</td>\n      <td>2979.0</td>\n      <td>4000.0</td>\n      <td>271976.0</td>\n      <td>Małopolskie</td>\n    </tr>\n    <tr>\n      <th>398</th>\n      <td>992</td>\n      <td>992</td>\n      <td>Renault</td>\n      <td>Clio IV</td>\n      <td>2017.0</td>\n      <td>Benzyna</td>\n      <td>898.0</td>\n      <td>1.0</td>\n      <td>58000.0</td>\n      <td>Śląskie</td>\n    </tr>\n    <tr>\n      <th>399</th>\n      <td>993</td>\n      <td>993</td>\n      <td>Fiat</td>\n      <td>Tipo II</td>\n      <td>2017.0</td>\n      <td>Benzyna</td>\n      <td>1400.0</td>\n      <td>2.0</td>\n      <td>47350.0</td>\n      <td>Mazowieckie</td>\n    </tr>\n    <tr>\n      <th>400</th>\n      <td>996</td>\n      <td>996</td>\n      <td>Škoda</td>\n      <td>Fabia II</td>\n      <td>2012.0</td>\n      <td>Benzyna</td>\n      <td>1200.0</td>\n      <td>42700.0</td>\n      <td>25400.0</td>\n      <td>Lubelskie</td>\n    </tr>\n    <tr>\n      <th>401</th>\n      <td>999</td>\n      <td>999</td>\n      <td>Volvo</td>\n      <td>XC 60 I</td>\n      <td>2016.0</td>\n      <td>Diesel</td>\n      <td>1969.0</td>\n      <td>13617.0</td>\n      <td>136900.0</td>\n      <td>Małopolskie</td>\n    </tr>\n  </tbody>\n</table>\n<p>402 rows × 10 columns</p>\n</div>"
     },
     "execution_count": 6,
     "metadata": {},
     "output_type": "execute_result"
    }
   ],
   "source": [
    "autos.query('rok_produkcji > 2010').reset_index()"
   ],
   "metadata": {
    "collapsed": false,
    "pycharm": {
     "name": "#%%\n"
    }
   }
  },
  {
   "cell_type": "markdown",
   "source": [
    "## Usunięcie kolumny 'id'"
   ],
   "metadata": {
    "collapsed": false
   }
  },
  {
   "cell_type": "code",
   "execution_count": 7,
   "outputs": [
    {
     "data": {
      "text/plain": "          marka        model  rok_produkcji rodzaj_silnika  pojemnosc_silnika  \\\n0        Nissan  X-Trail III         2014.0         Diesel             1600.0   \n1           BMW       X1 E84         2012.0         Diesel             2000.0   \n2          Opel     Zafira A         2004.0    Benzyna+CNG             1600.0   \n3       Hyundai        i10 I         2008.0        Benzyna             1100.0   \n4    Volkswagen           CC         2010.0         Diesel             1968.0   \n..          ...          ...            ...            ...                ...   \n995  Alfa Romeo          159         2009.0         Diesel             2387.0   \n996       Škoda     Fabia II         2012.0        Benzyna             1200.0   \n997     Renault        Modus         2004.0        Benzyna             1200.0   \n998        Audi        A3 8L         2000.0        Benzyna             1595.0   \n999       Volvo      XC 60 I         2016.0         Diesel             1969.0   \n\n     przebieg      cena     wojewodztwo  \n0    160000.0   75900.0    Dolnośląskie  \n1    149000.0   70900.0  Świętokrzyskie  \n2     99000.0    9800.0        Opolskie  \n3     93000.0   11900.0         Łódzkie  \n4    127428.0   49900.0   Wielkopolskie  \n..        ...       ...             ...  \n995  182000.0   33900.0     Małopolskie  \n996   42700.0   25400.0       Lubelskie  \n997  168111.0   10900.0         Łódzkie  \n998  226500.0    5400.0     Małopolskie  \n999   13617.0  136900.0     Małopolskie  \n\n[1000 rows x 8 columns]",
      "text/html": "<div>\n<style scoped>\n    .dataframe tbody tr th:only-of-type {\n        vertical-align: middle;\n    }\n\n    .dataframe tbody tr th {\n        vertical-align: top;\n    }\n\n    .dataframe thead th {\n        text-align: right;\n    }\n</style>\n<table border=\"1\" class=\"dataframe\">\n  <thead>\n    <tr style=\"text-align: right;\">\n      <th></th>\n      <th>marka</th>\n      <th>model</th>\n      <th>rok_produkcji</th>\n      <th>rodzaj_silnika</th>\n      <th>pojemnosc_silnika</th>\n      <th>przebieg</th>\n      <th>cena</th>\n      <th>wojewodztwo</th>\n    </tr>\n  </thead>\n  <tbody>\n    <tr>\n      <th>0</th>\n      <td>Nissan</td>\n      <td>X-Trail III</td>\n      <td>2014.0</td>\n      <td>Diesel</td>\n      <td>1600.0</td>\n      <td>160000.0</td>\n      <td>75900.0</td>\n      <td>Dolnośląskie</td>\n    </tr>\n    <tr>\n      <th>1</th>\n      <td>BMW</td>\n      <td>X1 E84</td>\n      <td>2012.0</td>\n      <td>Diesel</td>\n      <td>2000.0</td>\n      <td>149000.0</td>\n      <td>70900.0</td>\n      <td>Świętokrzyskie</td>\n    </tr>\n    <tr>\n      <th>2</th>\n      <td>Opel</td>\n      <td>Zafira A</td>\n      <td>2004.0</td>\n      <td>Benzyna+CNG</td>\n      <td>1600.0</td>\n      <td>99000.0</td>\n      <td>9800.0</td>\n      <td>Opolskie</td>\n    </tr>\n    <tr>\n      <th>3</th>\n      <td>Hyundai</td>\n      <td>i10 I</td>\n      <td>2008.0</td>\n      <td>Benzyna</td>\n      <td>1100.0</td>\n      <td>93000.0</td>\n      <td>11900.0</td>\n      <td>Łódzkie</td>\n    </tr>\n    <tr>\n      <th>4</th>\n      <td>Volkswagen</td>\n      <td>CC</td>\n      <td>2010.0</td>\n      <td>Diesel</td>\n      <td>1968.0</td>\n      <td>127428.0</td>\n      <td>49900.0</td>\n      <td>Wielkopolskie</td>\n    </tr>\n    <tr>\n      <th>...</th>\n      <td>...</td>\n      <td>...</td>\n      <td>...</td>\n      <td>...</td>\n      <td>...</td>\n      <td>...</td>\n      <td>...</td>\n      <td>...</td>\n    </tr>\n    <tr>\n      <th>995</th>\n      <td>Alfa Romeo</td>\n      <td>159</td>\n      <td>2009.0</td>\n      <td>Diesel</td>\n      <td>2387.0</td>\n      <td>182000.0</td>\n      <td>33900.0</td>\n      <td>Małopolskie</td>\n    </tr>\n    <tr>\n      <th>996</th>\n      <td>Škoda</td>\n      <td>Fabia II</td>\n      <td>2012.0</td>\n      <td>Benzyna</td>\n      <td>1200.0</td>\n      <td>42700.0</td>\n      <td>25400.0</td>\n      <td>Lubelskie</td>\n    </tr>\n    <tr>\n      <th>997</th>\n      <td>Renault</td>\n      <td>Modus</td>\n      <td>2004.0</td>\n      <td>Benzyna</td>\n      <td>1200.0</td>\n      <td>168111.0</td>\n      <td>10900.0</td>\n      <td>Łódzkie</td>\n    </tr>\n    <tr>\n      <th>998</th>\n      <td>Audi</td>\n      <td>A3 8L</td>\n      <td>2000.0</td>\n      <td>Benzyna</td>\n      <td>1595.0</td>\n      <td>226500.0</td>\n      <td>5400.0</td>\n      <td>Małopolskie</td>\n    </tr>\n    <tr>\n      <th>999</th>\n      <td>Volvo</td>\n      <td>XC 60 I</td>\n      <td>2016.0</td>\n      <td>Diesel</td>\n      <td>1969.0</td>\n      <td>13617.0</td>\n      <td>136900.0</td>\n      <td>Małopolskie</td>\n    </tr>\n  </tbody>\n</table>\n<p>1000 rows × 8 columns</p>\n</div>"
     },
     "execution_count": 7,
     "metadata": {},
     "output_type": "execute_result"
    }
   ],
   "source": [
    "autos.drop(columns='id')\n"
   ],
   "metadata": {
    "collapsed": false,
    "pycharm": {
     "name": "#%%\n"
    }
   }
  },
  {
   "cell_type": "markdown",
   "source": [
    "## Stworzenie tablic z danymi o samochodach marki Skoda oraz samochodach wyprodukowanych przed 2005"
   ],
   "metadata": {
    "collapsed": false
   }
  },
  {
   "cell_type": "code",
   "execution_count": 43,
   "outputs": [
    {
     "data": {
      "text/plain": "      id          marka         model  rok_produkcji rodzaj_silnika  \\\n2      2           Opel      Zafira A         2004.0    Benzyna+CNG   \n6      6         Nissan     X-Trail I         2004.0         Diesel   \n7      7           Seat     Toledo II         2000.0        Benzyna   \n11    11            BMW   Seria 5 E39         2002.0         Diesel   \n16    16           Ford    Mondeo Mk3         2003.0         Diesel   \n..   ...            ...           ...            ...            ...   \n987  987         Toyota         Camry         1992.0        Benzyna   \n989  989            BMW   Seria 5 E39         2002.0         Diesel   \n990  990  Mercedes-Benz  Klasa S W126         1986.0    Benzyna+LPG   \n997  997        Renault         Modus         2004.0        Benzyna   \n998  998           Audi         A3 8L         2000.0        Benzyna   \n\n     pojemnosc_silnika  przebieg     cena     wojewodztwo  \n2               1600.0   99000.0   9800.0        Opolskie  \n6               2200.0  174000.0  23200.0    Dolnośląskie  \n7               1800.0  140700.0   8150.0       Pomorskie  \n11              3000.0  254900.0  17500.0     Mazowieckie  \n16              2000.0  180000.0   7200.0     Małopolskie  \n..                 ...       ...      ...             ...  \n987             2164.0  137933.0  16000.0         Śląskie  \n989             2926.0  404000.0  14900.0    Dolnośląskie  \n990             2600.0  336000.0  21500.0  Świętokrzyskie  \n997             1200.0  168111.0  10900.0         Łódzkie  \n998             1595.0  226500.0   5400.0     Małopolskie  \n\n[215 rows x 9 columns]",
      "text/html": "<div>\n<style scoped>\n    .dataframe tbody tr th:only-of-type {\n        vertical-align: middle;\n    }\n\n    .dataframe tbody tr th {\n        vertical-align: top;\n    }\n\n    .dataframe thead th {\n        text-align: right;\n    }\n</style>\n<table border=\"1\" class=\"dataframe\">\n  <thead>\n    <tr style=\"text-align: right;\">\n      <th></th>\n      <th>id</th>\n      <th>marka</th>\n      <th>model</th>\n      <th>rok_produkcji</th>\n      <th>rodzaj_silnika</th>\n      <th>pojemnosc_silnika</th>\n      <th>przebieg</th>\n      <th>cena</th>\n      <th>wojewodztwo</th>\n    </tr>\n  </thead>\n  <tbody>\n    <tr>\n      <th>2</th>\n      <td>2</td>\n      <td>Opel</td>\n      <td>Zafira A</td>\n      <td>2004.0</td>\n      <td>Benzyna+CNG</td>\n      <td>1600.0</td>\n      <td>99000.0</td>\n      <td>9800.0</td>\n      <td>Opolskie</td>\n    </tr>\n    <tr>\n      <th>6</th>\n      <td>6</td>\n      <td>Nissan</td>\n      <td>X-Trail I</td>\n      <td>2004.0</td>\n      <td>Diesel</td>\n      <td>2200.0</td>\n      <td>174000.0</td>\n      <td>23200.0</td>\n      <td>Dolnośląskie</td>\n    </tr>\n    <tr>\n      <th>7</th>\n      <td>7</td>\n      <td>Seat</td>\n      <td>Toledo II</td>\n      <td>2000.0</td>\n      <td>Benzyna</td>\n      <td>1800.0</td>\n      <td>140700.0</td>\n      <td>8150.0</td>\n      <td>Pomorskie</td>\n    </tr>\n    <tr>\n      <th>11</th>\n      <td>11</td>\n      <td>BMW</td>\n      <td>Seria 5 E39</td>\n      <td>2002.0</td>\n      <td>Diesel</td>\n      <td>3000.0</td>\n      <td>254900.0</td>\n      <td>17500.0</td>\n      <td>Mazowieckie</td>\n    </tr>\n    <tr>\n      <th>16</th>\n      <td>16</td>\n      <td>Ford</td>\n      <td>Mondeo Mk3</td>\n      <td>2003.0</td>\n      <td>Diesel</td>\n      <td>2000.0</td>\n      <td>180000.0</td>\n      <td>7200.0</td>\n      <td>Małopolskie</td>\n    </tr>\n    <tr>\n      <th>...</th>\n      <td>...</td>\n      <td>...</td>\n      <td>...</td>\n      <td>...</td>\n      <td>...</td>\n      <td>...</td>\n      <td>...</td>\n      <td>...</td>\n      <td>...</td>\n    </tr>\n    <tr>\n      <th>987</th>\n      <td>987</td>\n      <td>Toyota</td>\n      <td>Camry</td>\n      <td>1992.0</td>\n      <td>Benzyna</td>\n      <td>2164.0</td>\n      <td>137933.0</td>\n      <td>16000.0</td>\n      <td>Śląskie</td>\n    </tr>\n    <tr>\n      <th>989</th>\n      <td>989</td>\n      <td>BMW</td>\n      <td>Seria 5 E39</td>\n      <td>2002.0</td>\n      <td>Diesel</td>\n      <td>2926.0</td>\n      <td>404000.0</td>\n      <td>14900.0</td>\n      <td>Dolnośląskie</td>\n    </tr>\n    <tr>\n      <th>990</th>\n      <td>990</td>\n      <td>Mercedes-Benz</td>\n      <td>Klasa S W126</td>\n      <td>1986.0</td>\n      <td>Benzyna+LPG</td>\n      <td>2600.0</td>\n      <td>336000.0</td>\n      <td>21500.0</td>\n      <td>Świętokrzyskie</td>\n    </tr>\n    <tr>\n      <th>997</th>\n      <td>997</td>\n      <td>Renault</td>\n      <td>Modus</td>\n      <td>2004.0</td>\n      <td>Benzyna</td>\n      <td>1200.0</td>\n      <td>168111.0</td>\n      <td>10900.0</td>\n      <td>Łódzkie</td>\n    </tr>\n    <tr>\n      <th>998</th>\n      <td>998</td>\n      <td>Audi</td>\n      <td>A3 8L</td>\n      <td>2000.0</td>\n      <td>Benzyna</td>\n      <td>1595.0</td>\n      <td>226500.0</td>\n      <td>5400.0</td>\n      <td>Małopolskie</td>\n    </tr>\n  </tbody>\n</table>\n<p>215 rows × 9 columns</p>\n</div>"
     },
     "execution_count": 43,
     "metadata": {},
     "output_type": "execute_result"
    }
   ],
   "source": [
    "year = autos[autos.rok_produkcji<2005]\n",
    "skoda = autos[autos.marka=='Škoda']\n",
    "year"
   ],
   "metadata": {
    "collapsed": false,
    "pycharm": {
     "name": "#%%\n"
    }
   }
  },
  {
   "cell_type": "markdown",
   "source": [
    "#### Stworzenie tablicy Skód które zostały wyprodukowane przed rokiem 2005 poprzez połączenie wewnętrzne poprzednio stworzonych tablic"
   ],
   "metadata": {
    "collapsed": false
   }
  },
  {
   "cell_type": "code",
   "execution_count": 44,
   "outputs": [
    {
     "data": {
      "text/plain": "    id  marka      model  rok_produkcji rodzaj_silnika  pojemnosc_silnika  \\\n0  118  Škoda  Octavia I         2002.0        Benzyna             2000.0   \n1  346  Škoda    Fabia I         2002.0        Benzyna             1390.0   \n2  453  Škoda    Fabia I         2004.0        Benzyna             1400.0   \n3  486  Škoda    Fabia I         2001.0        Benzyna             1397.0   \n4  578  Škoda  Octavia I         2003.0        Benzyna             1595.0   \n5  914  Škoda  Octavia I         1999.0         Diesel             1900.0   \n\n   przebieg     cena          wojewodztwo  \n0  186000.0  11900.0            Podlaskie  \n1  182315.0   6700.0          Małopolskie  \n2  175000.0  11900.0          Małopolskie  \n3  182000.0   7800.0          Mazowieckie  \n4  110654.0  10900.0  Warmińsko-mazurskie  \n5  185000.0   6900.0            Podlaskie  ",
      "text/html": "<div>\n<style scoped>\n    .dataframe tbody tr th:only-of-type {\n        vertical-align: middle;\n    }\n\n    .dataframe tbody tr th {\n        vertical-align: top;\n    }\n\n    .dataframe thead th {\n        text-align: right;\n    }\n</style>\n<table border=\"1\" class=\"dataframe\">\n  <thead>\n    <tr style=\"text-align: right;\">\n      <th></th>\n      <th>id</th>\n      <th>marka</th>\n      <th>model</th>\n      <th>rok_produkcji</th>\n      <th>rodzaj_silnika</th>\n      <th>pojemnosc_silnika</th>\n      <th>przebieg</th>\n      <th>cena</th>\n      <th>wojewodztwo</th>\n    </tr>\n  </thead>\n  <tbody>\n    <tr>\n      <th>0</th>\n      <td>118</td>\n      <td>Škoda</td>\n      <td>Octavia I</td>\n      <td>2002.0</td>\n      <td>Benzyna</td>\n      <td>2000.0</td>\n      <td>186000.0</td>\n      <td>11900.0</td>\n      <td>Podlaskie</td>\n    </tr>\n    <tr>\n      <th>1</th>\n      <td>346</td>\n      <td>Škoda</td>\n      <td>Fabia I</td>\n      <td>2002.0</td>\n      <td>Benzyna</td>\n      <td>1390.0</td>\n      <td>182315.0</td>\n      <td>6700.0</td>\n      <td>Małopolskie</td>\n    </tr>\n    <tr>\n      <th>2</th>\n      <td>453</td>\n      <td>Škoda</td>\n      <td>Fabia I</td>\n      <td>2004.0</td>\n      <td>Benzyna</td>\n      <td>1400.0</td>\n      <td>175000.0</td>\n      <td>11900.0</td>\n      <td>Małopolskie</td>\n    </tr>\n    <tr>\n      <th>3</th>\n      <td>486</td>\n      <td>Škoda</td>\n      <td>Fabia I</td>\n      <td>2001.0</td>\n      <td>Benzyna</td>\n      <td>1397.0</td>\n      <td>182000.0</td>\n      <td>7800.0</td>\n      <td>Mazowieckie</td>\n    </tr>\n    <tr>\n      <th>4</th>\n      <td>578</td>\n      <td>Škoda</td>\n      <td>Octavia I</td>\n      <td>2003.0</td>\n      <td>Benzyna</td>\n      <td>1595.0</td>\n      <td>110654.0</td>\n      <td>10900.0</td>\n      <td>Warmińsko-mazurskie</td>\n    </tr>\n    <tr>\n      <th>5</th>\n      <td>914</td>\n      <td>Škoda</td>\n      <td>Octavia I</td>\n      <td>1999.0</td>\n      <td>Diesel</td>\n      <td>1900.0</td>\n      <td>185000.0</td>\n      <td>6900.0</td>\n      <td>Podlaskie</td>\n    </tr>\n  </tbody>\n</table>\n</div>"
     },
     "execution_count": 44,
     "metadata": {},
     "output_type": "execute_result"
    }
   ],
   "source": [
    "pd.merge(year, skoda, how='inner')"
   ],
   "metadata": {
    "collapsed": false,
    "pycharm": {
     "name": "#%%\n"
    }
   }
  },
  {
   "cell_type": "markdown",
   "source": [
    "## Stworzenie Tablicy poprzez filtrowanie danych oraz wypisanie łącznej ceny wszystkich samochodów"
   ],
   "metadata": {
    "collapsed": false
   }
  },
  {
   "cell_type": "code",
   "execution_count": 50,
   "outputs": [
    {
     "data": {
      "text/plain": "cena    51942181.0\ndtype: float64"
     },
     "execution_count": 50,
     "metadata": {},
     "output_type": "execute_result"
    }
   ],
   "source": [
    "autos.filter(items=['cena']).sum()"
   ],
   "metadata": {
    "collapsed": false,
    "pycharm": {
     "name": "#%%\n"
    }
   }
  },
  {
   "cell_type": "markdown",
   "source": [
    "## Wykonanie diagramu słupkowego średnich cen samochodów dla województw"
   ],
   "metadata": {
    "collapsed": false
   }
  },
  {
   "cell_type": "code",
   "execution_count": 74,
   "outputs": [
    {
     "data": {
      "text/plain": "<AxesSubplot:xlabel='wojewodztwo'>"
     },
     "execution_count": 74,
     "metadata": {},
     "output_type": "execute_result"
    },
    {
     "data": {
      "text/plain": "<Figure size 432x288 with 1 Axes>",
      "image/png": "[encoded data removed]"
     },
     "metadata": {
      "needs_background": "light"
     },
     "output_type": "display_data"
    }
   ],
   "source": [
    "autos.groupby(by=\"wojewodztwo\")['cena'].mean().plot(kind='bar')"
   ],
   "metadata": {
    "collapsed": false,
    "pycharm": {
     "name": "#%%\n"
    }
   }
  },
  {
   "cell_type": "markdown",
   "source": [
    "## Posortowanie samochodów po cenie od największej do najmniejszej"
   ],
   "metadata": {
    "collapsed": false
   }
  },
  {
   "cell_type": "code",
   "execution_count": 75,
   "outputs": [
    {
     "data": {
      "text/plain": "      id          marka                 model  rok_produkcji rodzaj_silnika  \\\n405  405  Mercedes-Benz               SL R231         2016.0        Benzyna   \n586  586  Mercedes-Benz          Klasa G W463         2013.0        Benzyna   \n855  855     Land Rover  Range Rover Sport II         2016.0        Benzyna   \n517  517           Audi                   RS7         2016.0        Benzyna   \n410  410            BMW        Seria 7 G11/12         2017.0        Hybryda   \n..   ...            ...                   ...            ...            ...   \n487  487     Mitsubishi              Colt CJ0         2002.0        Benzyna   \n321  321     Volkswagen              Polo III         1998.0        Benzyna   \n497  497           Fiat                 Brava         1998.0        Benzyna   \n626  626     Mitsubishi              Colt CJ0         1997.0        Benzyna   \n249  249         Daewoo                  Tico         2000.0        Benzyna   \n\n     pojemnosc_silnika  przebieg      cena         wojewodztwo  \n405             4663.0    2000.0  616000.0         Mazowieckie  \n586             5500.0    4900.0  579000.0           Pomorskie  \n855             4999.0   20000.0  529900.0         Mazowieckie  \n517             3993.0   10000.0  514000.0         Mazowieckie  \n410             2000.0   10000.0  469900.0         Mazowieckie  \n..                 ...       ...       ...                 ...  \n487             1299.0  282000.0    2200.0        Dolnośląskie  \n321             1043.0  137153.0    1900.0         Mazowieckie  \n497             1400.0  136000.0     900.0             Śląskie  \n626             1300.0  219000.0     899.0  Zachodniopomorskie  \n249              796.0  188200.0     650.0            Opolskie  \n\n[1000 rows x 9 columns]",
      "text/html": "<div>\n<style scoped>\n    .dataframe tbody tr th:only-of-type {\n        vertical-align: middle;\n    }\n\n    .dataframe tbody tr th {\n        vertical-align: top;\n    }\n\n    .dataframe thead th {\n        text-align: right;\n    }\n</style>\n<table border=\"1\" class=\"dataframe\">\n  <thead>\n    <tr style=\"text-align: right;\">\n      <th></th>\n      <th>id</th>\n      <th>marka</th>\n      <th>model</th>\n      <th>rok_produkcji</th>\n      <th>rodzaj_silnika</th>\n      <th>pojemnosc_silnika</th>\n      <th>przebieg</th>\n      <th>cena</th>\n      <th>wojewodztwo</th>\n    </tr>\n  </thead>\n  <tbody>\n    <tr>\n      <th>405</th>\n      <td>405</td>\n      <td>Mercedes-Benz</td>\n      <td>SL R231</td>\n      <td>2016.0</td>\n      <td>Benzyna</td>\n      <td>4663.0</td>\n      <td>2000.0</td>\n      <td>616000.0</td>\n      <td>Mazowieckie</td>\n    </tr>\n    <tr>\n      <th>586</th>\n      <td>586</td>\n      <td>Mercedes-Benz</td>\n      <td>Klasa G W463</td>\n      <td>2013.0</td>\n      <td>Benzyna</td>\n      <td>5500.0</td>\n      <td>4900.0</td>\n      <td>579000.0</td>\n      <td>Pomorskie</td>\n    </tr>\n    <tr>\n      <th>855</th>\n      <td>855</td>\n      <td>Land Rover</td>\n      <td>Range Rover Sport II</td>\n      <td>2016.0</td>\n      <td>Benzyna</td>\n      <td>4999.0</td>\n      <td>20000.0</td>\n      <td>529900.0</td>\n      <td>Mazowieckie</td>\n    </tr>\n    <tr>\n      <th>517</th>\n      <td>517</td>\n      <td>Audi</td>\n      <td>RS7</td>\n      <td>2016.0</td>\n      <td>Benzyna</td>\n      <td>3993.0</td>\n      <td>10000.0</td>\n      <td>514000.0</td>\n      <td>Mazowieckie</td>\n    </tr>\n    <tr>\n      <th>410</th>\n      <td>410</td>\n      <td>BMW</td>\n      <td>Seria 7 G11/12</td>\n      <td>2017.0</td>\n      <td>Hybryda</td>\n      <td>2000.0</td>\n      <td>10000.0</td>\n      <td>469900.0</td>\n      <td>Mazowieckie</td>\n    </tr>\n    <tr>\n      <th>...</th>\n      <td>...</td>\n      <td>...</td>\n      <td>...</td>\n      <td>...</td>\n      <td>...</td>\n      <td>...</td>\n      <td>...</td>\n      <td>...</td>\n      <td>...</td>\n    </tr>\n    <tr>\n      <th>487</th>\n      <td>487</td>\n      <td>Mitsubishi</td>\n      <td>Colt CJ0</td>\n      <td>2002.0</td>\n      <td>Benzyna</td>\n      <td>1299.0</td>\n      <td>282000.0</td>\n      <td>2200.0</td>\n      <td>Dolnośląskie</td>\n    </tr>\n    <tr>\n      <th>321</th>\n      <td>321</td>\n      <td>Volkswagen</td>\n      <td>Polo III</td>\n      <td>1998.0</td>\n      <td>Benzyna</td>\n      <td>1043.0</td>\n      <td>137153.0</td>\n      <td>1900.0</td>\n      <td>Mazowieckie</td>\n    </tr>\n    <tr>\n      <th>497</th>\n      <td>497</td>\n      <td>Fiat</td>\n      <td>Brava</td>\n      <td>1998.0</td>\n      <td>Benzyna</td>\n      <td>1400.0</td>\n      <td>136000.0</td>\n      <td>900.0</td>\n      <td>Śląskie</td>\n    </tr>\n    <tr>\n      <th>626</th>\n      <td>626</td>\n      <td>Mitsubishi</td>\n      <td>Colt CJ0</td>\n      <td>1997.0</td>\n      <td>Benzyna</td>\n      <td>1300.0</td>\n      <td>219000.0</td>\n      <td>899.0</td>\n      <td>Zachodniopomorskie</td>\n    </tr>\n    <tr>\n      <th>249</th>\n      <td>249</td>\n      <td>Daewoo</td>\n      <td>Tico</td>\n      <td>2000.0</td>\n      <td>Benzyna</td>\n      <td>796.0</td>\n      <td>188200.0</td>\n      <td>650.0</td>\n      <td>Opolskie</td>\n    </tr>\n  </tbody>\n</table>\n<p>1000 rows × 9 columns</p>\n</div>"
     },
     "execution_count": 75,
     "metadata": {},
     "output_type": "execute_result"
    }
   ],
   "source": [
    "autos.sort_values('cena', ascending=False)\n",
    "\n"
   ],
   "metadata": {
    "collapsed": false,
    "pycharm": {
     "name": "#%%\n"
    }
   }
  }
 ],
 "metadata": {
  "kernelspec": {
   "display_name": "Python 3",
   "language": "python",
   "name": "python3"
  },
  "language_info": {
   "codemirror_mode": {
    "name": "ipython",
    "version": 2
   },
   "file_extension": ".py",
   "mimetype": "text/x-python",
   "name": "python",
   "nbconvert_exporter": "python",
   "pygments_lexer": "ipython2",
   "version": "2.7.6"
  }
 },
 "nbformat": 4,
 "nbformat_minor": 0
}