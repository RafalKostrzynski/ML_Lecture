{
 "cells": [
  {
   "cell_type": "markdown",
   "source": [
    "# JSON\n",
    "\n",
    "### Imports"
   ],
   "metadata": {
    "collapsed": false
   }
  },
  {
   "cell_type": "code",
   "execution_count": 219,
   "outputs": [],
   "source": [
    "import json\n",
    "import requests"
   ],
   "metadata": {
    "collapsed": false,
    "pycharm": {
     "name": "#%%\n"
    }
   }
  },
  {
   "cell_type": "markdown",
   "source": [
    "### Creating an in-memory JSON file"
   ],
   "metadata": {
    "collapsed": false
   }
  },
  {
   "cell_type": "code",
   "execution_count": 220,
   "outputs": [],
   "source": [
    "data=  {\n",
    "    \"postId\": 1,\n",
    "    \"id\": 3,\n",
    "    \"name\": \"odio adipisci rerum aut animi\",\n",
    "    \"email\": \"Nikita@garfield.biz\",\n",
    "    \"body\": \"quia molestiae reprehenderit quasi aspernatur\\naut expedita occaecati aliquam eveniet laudantium\\nomnis quibusdam delectus saepe quia accusamus maiores nam est\\ncum et ducimus et vero voluptates excepturi deleniti ratione\"\n",
    "  }"
   ],
   "metadata": {
    "collapsed": false,
    "pycharm": {
     "name": "#%%\n"
    }
   }
  },
  {
   "cell_type": "markdown",
   "source": [
    "### Write a JSON file and dump() method"
   ],
   "metadata": {
    "collapsed": false
   }
  },
  {
   "cell_type": "code",
   "execution_count": 221,
   "outputs": [],
   "source": [
    "with open(\"json_files/data_file.json\", \"w\") as write_file:\n",
    "    json.dump(data, write_file)"
   ],
   "metadata": {
    "collapsed": false,
    "pycharm": {
     "name": "#%%\n"
    }
   }
  },
  {
   "cell_type": "markdown",
   "source": [
    "### Writing a serialized JSON data object in a native str object"
   ],
   "metadata": {
    "collapsed": false
   }
  },
  {
   "cell_type": "code",
   "execution_count": 222,
   "outputs": [
    {
     "data": {
      "text/plain": "'{\"postId\": 1, \"id\": 3, \"name\": \"odio adipisci rerum aut animi\", \"email\": \"Nikita@garfield.biz\", \"body\": \"quia molestiae reprehenderit quasi aspernatur\\\\naut expedita occaecati aliquam eveniet laudantium\\\\nomnis quibusdam delectus saepe quia accusamus maiores nam est\\\\ncum et ducimus et vero voluptates excepturi deleniti ratione\"}'"
     },
     "execution_count": 222,
     "metadata": {},
     "output_type": "execute_result"
    }
   ],
   "source": [
    "json_string = json.dumps(data)\n",
    "json_string"
   ],
   "metadata": {
    "collapsed": false,
    "pycharm": {
     "name": "#%%\n"
    }
   }
  },
  {
   "cell_type": "markdown",
   "source": [
    "### Specifying the indentation size"
   ],
   "metadata": {
    "collapsed": false
   }
  },
  {
   "cell_type": "code",
   "execution_count": 223,
   "outputs": [
    {
     "data": {
      "text/plain": "'{\\n    \"postId\": 1,\\n    \"id\": 3,\\n    \"name\": \"odio adipisci rerum aut animi\",\\n    \"email\": \"Nikita@garfield.biz\",\\n    \"body\": \"quia molestiae reprehenderit quasi aspernatur\\\\naut expedita occaecati aliquam eveniet laudantium\\\\nomnis quibusdam delectus saepe quia accusamus maiores nam est\\\\ncum et ducimus et vero voluptates excepturi deleniti ratione\"\\n}'"
     },
     "execution_count": 223,
     "metadata": {},
     "output_type": "execute_result"
    }
   ],
   "source": [
    "json_string_indentation = json.dumps(data, indent=4)\n",
    "json_string_indentation"
   ],
   "metadata": {
    "collapsed": false,
    "pycharm": {
     "name": "#%%\n"
    }
   }
  },
  {
   "cell_type": "markdown",
   "source": [
    "## Deserializing a JSON\n",
    "\n",
    "### Encoding and decoding a JSON"
   ],
   "metadata": {
    "collapsed": false
   }
  },
  {
   "cell_type": "code",
   "execution_count": 224,
   "outputs": [
    {
     "name": "stdout",
     "output_type": "stream",
     "text": [
      "False\n",
      "<class 'tuple'>\n",
      "<class 'list'>\n",
      "True\n"
     ]
    }
   ],
   "source": [
    "new_shoes = (\"Price\",299)\n",
    "encoded_shoes = json.dumps(new_shoes)\n",
    "decoded_shoes = json.loads(encoded_shoes)\n",
    "\n",
    "print(new_shoes == encoded_shoes)\n",
    "print(type(new_shoes))\n",
    "print(type(decoded_shoes))\n",
    "print(new_shoes==tuple(decoded_shoes))"
   ],
   "metadata": {
    "collapsed": false,
    "pycharm": {
     "name": "#%%\n"
    }
   }
  },
  {
   "cell_type": "markdown",
   "source": [
    "### Deserialization"
   ],
   "metadata": {
    "collapsed": false
   }
  },
  {
   "cell_type": "code",
   "execution_count": 225,
   "outputs": [
    {
     "data": {
      "text/plain": "{'postId': 1,\n 'id': 3,\n 'name': 'odio adipisci rerum aut animi',\n 'email': 'Nikita@garfield.biz',\n 'body': 'quia molestiae reprehenderit quasi aspernatur\\naut expedita occaecati aliquam eveniet laudantium\\nomnis quibusdam delectus saepe quia accusamus maiores nam est\\ncum et ducimus et vero voluptates excepturi deleniti ratione'}"
     },
     "execution_count": 225,
     "metadata": {},
     "output_type": "execute_result"
    }
   ],
   "source": [
    "with open(\"json_files/data_file.json\", \"r\") as read_file:\n",
    "    data = json.load(read_file)\n",
    "data"
   ],
   "metadata": {
    "collapsed": false,
    "pycharm": {
     "name": "#%%\n"
    }
   }
  },
  {
   "cell_type": "markdown",
   "source": [
    "### Deserializing a string"
   ],
   "metadata": {
    "collapsed": false
   }
  },
  {
   "cell_type": "code",
   "execution_count": 226,
   "outputs": [
    {
     "data": {
      "text/plain": "{'glossary': {'title': 'example glossary',\n  'GlossDiv': {'title': 'S',\n   'GlossList': {'GlossEntry': {'ID': 'SGML',\n     'SortAs': 'SGML',\n     'GlossTerm': 'Standard Generalized Markup Language',\n     'Acronym': 'SGML',\n     'Abbrev': 'ISO 8879:1986',\n     'GlossDef': {'para': 'A meta-markup language, used to create markup languages such as DocBook.',\n      'GlossSeeAlso': ['GML', 'XML']},\n     'GlossSee': 'markup'}}}}}"
     },
     "execution_count": 226,
     "metadata": {},
     "output_type": "execute_result"
    }
   ],
   "source": [
    "json_string = \"\"\"\n",
    "{\n",
    "    \"glossary\": {\n",
    "        \"title\": \"example glossary\",\n",
    "\t\t\"GlossDiv\": {\n",
    "            \"title\": \"S\",\n",
    "\t\t\t\"GlossList\": {\n",
    "                \"GlossEntry\": {\n",
    "                    \"ID\": \"SGML\",\n",
    "\t\t\t\t\t\"SortAs\": \"SGML\",\n",
    "\t\t\t\t\t\"GlossTerm\": \"Standard Generalized Markup Language\",\n",
    "\t\t\t\t\t\"Acronym\": \"SGML\",\n",
    "\t\t\t\t\t\"Abbrev\": \"ISO 8879:1986\",\n",
    "\t\t\t\t\t\"GlossDef\": {\n",
    "                        \"para\": \"A meta-markup language, used to create markup languages such as DocBook.\",\n",
    "\t\t\t\t\t\t\"GlossSeeAlso\": [\"GML\", \"XML\"]\n",
    "                    },\n",
    "\t\t\t\t\t\"GlossSee\": \"markup\"\n",
    "                }\n",
    "            }\n",
    "        }\n",
    "    }\n",
    "}\n",
    "\"\"\"\n",
    "data = json.loads(json_string)\n",
    "data"
   ],
   "metadata": {
    "collapsed": false,
    "pycharm": {
     "name": "#%%\n"
    }
   }
  },
  {
   "cell_type": "markdown",
   "source": [
    "### creating a json-request"
   ],
   "metadata": {
    "collapsed": false
   }
  },
  {
   "cell_type": "code",
   "execution_count": 227,
   "outputs": [
    {
     "name": "stdout",
     "output_type": "stream",
     "text": [
      "True\n",
      "<class 'list'>\n",
      "[{'userId': 1, 'id': 1, 'title': 'sunt aut facere repellat provident occaecati excepturi optio reprehenderit', 'body': 'quia et suscipit\\nsuscipit recusandae consequuntur expedita et cum\\nreprehenderit molestiae ut ut quas totam\\nnostrum rerum est autem sunt rem eveniet architecto'}, {'userId': 1, 'id': 2, 'title': 'qui est esse', 'body': 'est rerum tempore vitae\\nsequi sint nihil reprehenderit dolor beatae ea dolores neque\\nfugiat blanditiis voluptate porro vel nihil molestiae ut reiciendis\\nqui aperiam non debitis possimus qui neque nisi nulla'}, {'userId': 1, 'id': 3, 'title': 'ea molestias quasi exercitationem repellat qui ipsa sit aut', 'body': 'et iusto sed quo iure\\nvoluptatem occaecati omnis eligendi aut ad\\nvoluptatem doloribus vel accusantium quis pariatur\\nmolestiae porro eius odio et labore et velit aut'}, {'userId': 1, 'id': 4, 'title': 'eum et est occaecati', 'body': 'ullam et saepe reiciendis voluptatem adipisci\\nsit amet autem assumenda provident rerum culpa\\nquis hic commodi nesciunt rem tenetur doloremque ipsam iure\\nquis sunt voluptatem rerum illo velit'}, {'userId': 1, 'id': 5, 'title': 'nesciunt quas odio', 'body': 'repudiandae veniam quaerat sunt sed\\nalias aut fugiat sit autem sed est\\nvoluptatem omnis possimus esse voluptatibus quis\\nest aut tenetur dolor neque'}, {'userId': 1, 'id': 6, 'title': 'dolorem eum magni eos aperiam quia', 'body': 'ut aspernatur corporis harum nihil quis provident sequi\\nmollitia nobis aliquid molestiae\\nperspiciatis et ea nemo ab reprehenderit accusantium quas\\nvoluptate dolores velit et doloremque molestiae'}, {'userId': 1, 'id': 7, 'title': 'magnam facilis autem', 'body': 'dolore placeat quibusdam ea quo vitae\\nmagni quis enim qui quis quo nemo aut saepe\\nquidem repellat excepturi ut quia\\nsunt ut sequi eos ea sed quas'}, {'userId': 1, 'id': 8, 'title': 'dolorem dolore est ipsam', 'body': 'dignissimos aperiam dolorem qui eum\\nfacilis quibusdam animi sint suscipit qui sint possimus cum\\nquaerat magni maiores excepturi\\nipsam ut commodi dolor voluptatum modi aut vitae'}, {'userId': 1, 'id': 9, 'title': 'nesciunt iure omnis dolorem tempora et accusantium', 'body': 'consectetur animi nesciunt iure dolore\\nenim quia ad\\nveniam autem ut quam aut nobis\\net est aut quod aut provident voluptas autem voluptas'}, {'userId': 1, 'id': 10, 'title': 'optio molestias id quia eum', 'body': 'quo et expedita modi cum officia vel magni\\ndoloribus qui repudiandae\\nvero nisi sit\\nquos veniam quod sed accusamus veritatis error'}]\n"
     ]
    }
   ],
   "source": [
    "response = requests.get(\"https://jsonplaceholder.typicode.com/posts\")\n",
    "posts = json.loads(response.text)\n",
    "\n",
    "print(response.json()==posts)\n",
    "print(type(posts))\n",
    "print(posts[:10])"
   ],
   "metadata": {
    "collapsed": false,
    "pycharm": {
     "name": "#%%\n"
    }
   }
  },
  {
   "cell_type": "markdown",
   "source": [
    "### Which user posted the longest post?"
   ],
   "metadata": {
    "collapsed": false
   }
  },
  {
   "cell_type": "code",
   "execution_count": 228,
   "outputs": [
    {
     "name": "stdout",
     "output_type": "stream",
     "text": [
      "{1: 206, 2: 225, 3: 190, 4: 212, 5: 193, 6: 197, 7: 218, 8: 196, 9: 198, 10: 215}\n",
      "[(2, 225), (7, 218), (10, 215), (4, 212), (1, 206), (9, 198), (6, 197), (8, 196), (5, 193), (3, 190)]\n",
      "User 2 wrote the longest post with 225 signs\n"
     ]
    }
   ],
   "source": [
    "posts_by_user={}\n",
    "for post in posts:\n",
    "    try:\n",
    "        if len(post[\"body\"])> posts_by_user[post[\"userId\"]]:\n",
    "            posts_by_user[post[\"userId\"]]=len(post[\"body\"])\n",
    "    except KeyError:\n",
    "            posts_by_user[post[\"userId\"]]=len(post[\"body\"])\n",
    "\n",
    "longest_post = sorted(posts_by_user.items(),\n",
    "                      key=lambda x:x[1], reverse=True)\n",
    "print(posts_by_user)\n",
    "print(longest_post)\n",
    "\n",
    "users_longest_posts=[]\n",
    "for longest in longest_post:\n",
    "    if longest_post[0][1]>longest[1]:\n",
    "        break\n",
    "    users_longest_posts.append(str(longest[0]))\n",
    "\n",
    "user_string = \" and \".join(users_longest_posts)\n",
    "s = \"s\" if len(users_longest_posts)>1 else \"\"\n",
    "print(f'User{s} {user_string} wrote the longest post with {longest_post[0][1]} signs')"
   ],
   "metadata": {
    "collapsed": false,
    "pycharm": {
     "name": "#%%\n"
    }
   }
  },
  {
   "cell_type": "markdown",
   "source": [
    "### Filter 5 users who wrote the longest posts and write a json file"
   ],
   "metadata": {
    "collapsed": false
   }
  },
  {
   "cell_type": "code",
   "execution_count": 229,
   "outputs": [],
   "source": [
    "users = longest_post[:5]\n",
    "\n",
    "def keep(post):\n",
    "    counter = False\n",
    "    for user in users:\n",
    "        if user[1] == len(post[\"body\"]) and post[\"userId\"] == user[0]:\n",
    "            counter = True\n",
    "    return counter\n",
    "\n",
    "with open(\"json_files/filtered_data_file.json\",\"w\") as data_file:\n",
    "    filtered_posts = list(filter(keep,posts))\n",
    "    json.dump(filtered_posts,data_file,indent=2)"
   ],
   "metadata": {
    "collapsed": false,
    "pycharm": {
     "name": "#%%\n"
    }
   }
  },
  {
   "cell_type": "markdown",
   "source": [
    "### Encoding and Decoding custom objects\n",
    "\n",
    "#### The following code is not supposed to work because json doesnt know how to encode custom types by default"
   ],
   "metadata": {
    "collapsed": false
   }
  },
  {
   "cell_type": "code",
   "execution_count": 230,
   "outputs": [
    {
     "name": "stdout",
     "output_type": "stream",
     "text": [
      "A TypeError has occurred!\n",
      "Message:  Object of type Elf is not JSON serializable\n"
     ]
    }
   ],
   "source": [
    "class Elf:\n",
    "    def __init__(self, level, ability_scores=None):\n",
    "        self.level = level\n",
    "        self.ability_scores = {\n",
    "            \"str\": 11, \"dex\": 12, \"con\": 10,\n",
    "            \"int\": 16, \"wis\": 14, \"cha\": 13\n",
    "        } if ability_scores is None else ability_scores\n",
    "        self.hp = 10 + self.ability_scores[\"con\"]\n",
    "\n",
    "try:\n",
    "    elf = Elf(level=4)\n",
    "    json.dumps(elf)\n",
    "except TypeError as type_error:\n",
    "    print(\"A TypeError has occurred!\")\n",
    "    print(\"Message: \",type_error.args[0])"
   ],
   "metadata": {
    "collapsed": false,
    "pycharm": {
     "name": "#%%\n"
    }
   }
  },
  {
   "cell_type": "markdown",
   "source": [
    "### Encoding complex objects by a custom function"
   ],
   "metadata": {
    "collapsed": false
   }
  },
  {
   "cell_type": "code",
   "execution_count": 231,
   "outputs": [
    {
     "data": {
      "text/plain": "'[9.0, 5.0]'"
     },
     "execution_count": 231,
     "metadata": {},
     "output_type": "execute_result"
    }
   ],
   "source": [
    "def encode_complex(z):\n",
    "    if isinstance(z,complex):\n",
    "        return (z.real, z.imag)\n",
    "    else:\n",
    "        type_name = z.__class__.__name__\n",
    "        raise TypeError(f\"Object of type '{type_name}' is not JSON serializable\")\n",
    "\n",
    "json.dumps(9+5j,default=encode_complex)"
   ],
   "metadata": {
    "collapsed": false,
    "pycharm": {
     "name": "#%%\n"
    }
   }
  },
  {
   "cell_type": "markdown",
   "source": [
    "### Encoding complex objects by overriding the JSONEncoder default() method"
   ],
   "metadata": {
    "collapsed": false
   }
  },
  {
   "cell_type": "code",
   "execution_count": 232,
   "outputs": [
    {
     "name": "stdout",
     "output_type": "stream",
     "text": [
      "[2.0, 5.0]\n"
     ]
    },
    {
     "data": {
      "text/plain": "'[3.0, 6.0]'"
     },
     "execution_count": 232,
     "metadata": {},
     "output_type": "execute_result"
    }
   ],
   "source": [
    "class ComplexEncoder(json.JSONEncoder):\n",
    "    def default(self, z):\n",
    "        if isinstance(z, complex):\n",
    "            return (z.real, z.imag)\n",
    "        else:\n",
    "            return super().default(z)\n",
    "\n",
    "print(json.dumps(2 + 5j, cls=ComplexEncoder))\n",
    "encode = ComplexEncoder()\n",
    "encode.encode(3 + 6j)"
   ],
   "metadata": {
    "collapsed": false,
    "pycharm": {
     "name": "#%%\n"
    }
   }
  },
  {
   "cell_type": "markdown",
   "source": [
    "### Decoding custom objects"
   ],
   "metadata": {
    "collapsed": false
   }
  },
  {
   "cell_type": "code",
   "execution_count": 233,
   "outputs": [
    {
     "data": {
      "text/plain": "[4.0, 17.0]"
     },
     "execution_count": 233,
     "metadata": {},
     "output_type": "execute_result"
    }
   ],
   "source": [
    "complex_json = json.dumps(4+17J,cls=ComplexEncoder)\n",
    "json.loads(complex_json)"
   ],
   "metadata": {
    "collapsed": false,
    "pycharm": {
     "name": "#%%\n"
    }
   }
  },
  {
   "cell_type": "markdown",
   "source": [
    "### Key verification"
   ],
   "metadata": {
    "collapsed": false
   }
  },
  {
   "cell_type": "code",
   "execution_count": 234,
   "outputs": [
    {
     "name": "stdout",
     "output_type": "stream",
     "text": [
      "<class 'list'>\n"
     ]
    },
    {
     "data": {
      "text/plain": "[(654+354j), (66+69j)]"
     },
     "execution_count": 234,
     "metadata": {},
     "output_type": "execute_result"
    }
   ],
   "source": [
    "def decode_complex(dct):\n",
    "    if \"__complex__\" in dct:\n",
    "        return complex(dct[\"real\"], dct[\"imag\"])\n",
    "    return dct\n",
    "\n",
    "with open(\"json_files/complex_data.json\") as complex_data:\n",
    "    data=complex_data.read()\n",
    "    z=json.loads(data, object_hook=decode_complex)\n",
    "\n",
    "print(type(z))\n",
    "z"
   ],
   "metadata": {
    "collapsed": false,
    "pycharm": {
     "name": "#%%\n"
    }
   }
  }
 ],
 "metadata": {
  "kernelspec": {
   "display_name": "Python 3",
   "language": "python",
   "name": "python3"
  },
  "language_info": {
   "codemirror_mode": {
    "name": "ipython",
    "version": 2
   },
   "file_extension": ".py",
   "mimetype": "text/x-python",
   "name": "python",
   "nbconvert_exporter": "python",
   "pygments_lexer": "ipython2",
   "version": "2.7.6"
  }
 },
 "nbformat": 4,
 "nbformat_minor": 0
}