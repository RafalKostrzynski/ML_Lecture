{
 "cells": [
  {
   "cell_type": "markdown",
   "metadata": {
    "collapsed": true,
    "pycharm": {
     "name": "#%% md\n"
    }
   },
   "source": [
    "# CSV\n",
    "\n",
    "### Imports"
   ]
  },
  {
   "cell_type": "code",
   "execution_count": 287,
   "outputs": [],
   "source": [
    "import csv\n",
    "import pandas"
   ],
   "metadata": {
    "collapsed": false,
    "pycharm": {
     "name": "#%%\n"
    }
   }
  },
  {
   "cell_type": "markdown",
   "source": [
    "### Read a csv file"
   ],
   "metadata": {
    "collapsed": false
   }
  },
  {
   "cell_type": "code",
   "execution_count": 288,
   "outputs": [
    {
     "name": "stdout",
     "output_type": "stream",
     "text": [
      "Column names are First, Second, Third, Fourth, Fifth\n",
      "\tLorem is a Latin word ipsum is really important, and means a lot dolorsit amet.consectetur adipiscing was generated. elit, I really have no idea what it means\n",
      "\tPhasellus is a Latin word vitae is really important, and means a lot tempor.lectus was generated.  sdawcy, I really have no idea what it means\n",
      "\tNunc eleifend is a Latin word consectetur is really important, and means a lot erat a.tristique was generated.  tristique, I really have no idea what it means\n",
      "\tEtiam is a Latin word blandit venenatis is really important, and means a lot dolor.sed maximus was generated. purus egestas, I really have no idea what it means\n",
      "\tVestibulum is a Latin word erat lectus is really important, and means a lot viverra nec.sodales eget was generated. pretium nec orci, I really have no idea what it means\n",
      "\tUt maximus is a Latin word massa risus is really important, and means a lot non rhoncus.ipsum was generated. sollicitudin eget, I really have no idea what it means\n",
      "\tAenean is a Latin word et is really important, and means a lot dictum.est was generated. massa, I really have no idea what it means\n",
      "\tUt is a Latin word cursus is really important, and means a lot eget.lorem was generated. vitae egestas, I really have no idea what it means\n",
      "\tDonec ac is a Latin word magna is really important, and means a lot venenatis.tempor justo was generated. sedegestas urna, I really have no idea what it means\n",
      "\tVivamus is a Latin word molestie purus is really important, and means a lot nec.nunc auctor was generated. mattis, I really have no idea what it means\n",
      "\tMaecenas a is a Latin word lacus mi is really important, and means a lot purus.nec was generated. nunc, I really have no idea what it means\n",
      "Processed 12 lines.\n"
     ]
    }
   ],
   "source": [
    "with open('csv_files/lorem_ipsum.txt') as csv_file:\n",
    "    csv_reader = csv.reader(csv_file, delimiter=',')\n",
    "    line_count = 0\n",
    "    for row in csv_reader:\n",
    "        if line_count == 0:\n",
    "            print(f'Column names are {\", \".join(row)}')\n",
    "            line_count += 1\n",
    "        else:\n",
    "            print(f'\\t{row[0]} is a Latin word {row[1]} is really important, '\n",
    "                  f'and means a lot {row[2]}.{row[3]} was generated. '\n",
    "                  f'{row[4]}, I really have no idea what it means')\n",
    "            line_count += 1\n",
    "    print(f'Processed {line_count} lines.')\n"
   ],
   "metadata": {
    "collapsed": false,
    "pycharm": {
     "name": "#%%\n"
    }
   }
  },
  {
   "cell_type": "markdown",
   "source": [
    "### Reading CSV files into a dictionary"
   ],
   "metadata": {
    "collapsed": false
   }
  },
  {
   "cell_type": "code",
   "execution_count": 289,
   "outputs": [
    {
     "name": "stdout",
     "output_type": "stream",
     "text": [
      "Column names are First, Second, Third, Fourth, Fifth\n",
      "\tPhasellus is a Latin word vitae is really important, and means a lot tempor.lectus was generated.  sdawcy, I really have no idea what it means\n",
      "\tNunc eleifend is a Latin word consectetur is really important, and means a lot erat a.tristique was generated.  tristique, I really have no idea what it means\n",
      "\tEtiam is a Latin word blandit venenatis is really important, and means a lot dolor.sed maximus was generated. purus egestas, I really have no idea what it means\n",
      "\tVestibulum is a Latin word erat lectus is really important, and means a lot viverra nec.sodales eget was generated. pretium nec orci, I really have no idea what it means\n",
      "\tUt maximus is a Latin word massa risus is really important, and means a lot non rhoncus.ipsum was generated. sollicitudin eget, I really have no idea what it means\n",
      "\tAenean is a Latin word et is really important, and means a lot dictum.est was generated. massa, I really have no idea what it means\n",
      "\tUt is a Latin word cursus is really important, and means a lot eget.lorem was generated. vitae egestas, I really have no idea what it means\n",
      "\tDonec ac is a Latin word magna is really important, and means a lot venenatis.tempor justo was generated. sedegestas urna, I really have no idea what it means\n",
      "\tVivamus is a Latin word molestie purus is really important, and means a lot nec.nunc auctor was generated. mattis, I really have no idea what it means\n",
      "\tMaecenas a is a Latin word lacus mi is really important, and means a lot purus.nec was generated. nunc, I really have no idea what it means\n",
      "Processed 11 lines.\n"
     ]
    }
   ],
   "source": [
    "with open('csv_files/lorem_ipsum.txt') as csv_file:\n",
    "    csv_reader = csv.DictReader(csv_file)\n",
    "    line_count = 0\n",
    "    for row in csv_reader:\n",
    "        if line_count == 0:\n",
    "            print(f'Column names are {\", \".join(row)}')\n",
    "            line_count += 1\n",
    "        else:\n",
    "            print(f'\\t{row[\"First\"]} is a Latin word {row[\"Second\"]} is really important, '\n",
    "                  f'and means a lot {row[\"Third\"]}.{row[\"Fourth\"]} was generated. '\n",
    "                  f'{row[\"Fifth\"]}, I really have no idea what it means')\n",
    "            line_count += 1\n",
    "    print(f'Processed {line_count} lines.')\n"
   ],
   "metadata": {
    "collapsed": false,
    "pycharm": {
     "name": "#%%\n"
    }
   }
  },
  {
   "cell_type": "markdown",
   "source": [
    "### Writing a CSV file"
   ],
   "metadata": {
    "collapsed": false
   }
  },
  {
   "cell_type": "code",
   "execution_count": 290,
   "outputs": [],
   "source": [
    "with open('csv_files/public_opinion.csv', mode='w') as public_opinion_file:\n",
    "    public_opinion_writer = csv.writer(public_opinion_file, delimiter=',', quotechar='\"', quoting=csv.QUOTE_MINIMAL)\n",
    "\n",
    "    public_opinion_writer.writerow(['Person', 'Job', 'Month'])\n",
    "    public_opinion_writer.writerow(['Max Musterman', 'Consultant', 'January'])"
   ],
   "metadata": {
    "collapsed": false,
    "pycharm": {
     "name": "#%%\n"
    }
   }
  },
  {
   "cell_type": "markdown",
   "source": [
    "### Writing a CSV file from a Dictionary"
   ],
   "metadata": {
    "collapsed": false
   }
  },
  {
   "cell_type": "code",
   "execution_count": 291,
   "outputs": [],
   "source": [
    "with open('csv_files/public_opinion2.csv', mode='w') as csv_file:\n",
    "    fieldnames = ['person_name', 'job', 'employment_month']\n",
    "    writer = csv.DictWriter(csv_file, fieldnames=fieldnames)\n",
    "\n",
    "    writer.writeheader()\n",
    "    writer.writerow({'person_name': 'Max Musterman', 'job': 'Consultant', 'employment_month': 'January'})\n",
    "    writer.writerow({'person_name': 'Pawel Kowalski', 'job': 'Nurse', 'employment_month': 'February'})\n"
   ],
   "metadata": {
    "collapsed": false,
    "pycharm": {
     "name": "#%%\n"
    }
   }
  },
  {
   "cell_type": "markdown",
   "source": [
    "### Parsing complicated CSV with pandas\n",
    "\n",
    "#### Print only first 10 rows"
   ],
   "metadata": {
    "collapsed": false
   }
  },
  {
   "cell_type": "code",
   "execution_count": 292,
   "outputs": [
    {
     "data": {
      "text/plain": "          Full name  Age    Birthday               Email       City    Salary\n0     Violet Morris   50   8/13/1996      lit@jelavef.ad   Ojotasjo  $4196.55\n1    Jeffery Horton   44   6/22/1982   didehidog@wiep.gm   Builaoki  $8401.49\n2   Adrian Erickson   41   1/31/1962       malmob@jam.fm     Danada  $9804.96\n3     Sarah Hubbard   50   3/22/1998         arega@ma.uy   Kiwraciw     $7.35\n4        Lida Moran   27    2/7/1965  nafriwnah@dacaz.lc    Nuosijo  $3736.35\n5     Gregory Ellis   28   1/18/1969     ujkeduku@gaf.do  Niljujhet  $8391.73\n6  Jonathan Hopkins   65  12/21/1989  gafhab@pinofsis.ph   Sahtufat   $959.05\n7       Leroy Weber   30   3/14/1990        vevuj@tej.be   Jebmudum  $2411.78\n8       Carl Clarke   57   4/22/1967     wopevbic@dul.gn   Bigovejo  $8802.84\n9    Nannie Simmons   40   1/15/1982    ebamernow@ewo.bn     Nukiof  $3121.11",
      "text/html": "<div>\n<style scoped>\n    .dataframe tbody tr th:only-of-type {\n        vertical-align: middle;\n    }\n\n    .dataframe tbody tr th {\n        vertical-align: top;\n    }\n\n    .dataframe thead th {\n        text-align: right;\n    }\n</style>\n<table border=\"1\" class=\"dataframe\">\n  <thead>\n    <tr style=\"text-align: right;\">\n      <th></th>\n      <th>Full name</th>\n      <th>Age</th>\n      <th>Birthday</th>\n      <th>Email</th>\n      <th>City</th>\n      <th>Salary</th>\n    </tr>\n  </thead>\n  <tbody>\n    <tr>\n      <th>0</th>\n      <td>Violet Morris</td>\n      <td>50</td>\n      <td>8/13/1996</td>\n      <td>lit@jelavef.ad</td>\n      <td>Ojotasjo</td>\n      <td>$4196.55</td>\n    </tr>\n    <tr>\n      <th>1</th>\n      <td>Jeffery Horton</td>\n      <td>44</td>\n      <td>6/22/1982</td>\n      <td>didehidog@wiep.gm</td>\n      <td>Builaoki</td>\n      <td>$8401.49</td>\n    </tr>\n    <tr>\n      <th>2</th>\n      <td>Adrian Erickson</td>\n      <td>41</td>\n      <td>1/31/1962</td>\n      <td>malmob@jam.fm</td>\n      <td>Danada</td>\n      <td>$9804.96</td>\n    </tr>\n    <tr>\n      <th>3</th>\n      <td>Sarah Hubbard</td>\n      <td>50</td>\n      <td>3/22/1998</td>\n      <td>arega@ma.uy</td>\n      <td>Kiwraciw</td>\n      <td>$7.35</td>\n    </tr>\n    <tr>\n      <th>4</th>\n      <td>Lida Moran</td>\n      <td>27</td>\n      <td>2/7/1965</td>\n      <td>nafriwnah@dacaz.lc</td>\n      <td>Nuosijo</td>\n      <td>$3736.35</td>\n    </tr>\n    <tr>\n      <th>5</th>\n      <td>Gregory Ellis</td>\n      <td>28</td>\n      <td>1/18/1969</td>\n      <td>ujkeduku@gaf.do</td>\n      <td>Niljujhet</td>\n      <td>$8391.73</td>\n    </tr>\n    <tr>\n      <th>6</th>\n      <td>Jonathan Hopkins</td>\n      <td>65</td>\n      <td>12/21/1989</td>\n      <td>gafhab@pinofsis.ph</td>\n      <td>Sahtufat</td>\n      <td>$959.05</td>\n    </tr>\n    <tr>\n      <th>7</th>\n      <td>Leroy Weber</td>\n      <td>30</td>\n      <td>3/14/1990</td>\n      <td>vevuj@tej.be</td>\n      <td>Jebmudum</td>\n      <td>$2411.78</td>\n    </tr>\n    <tr>\n      <th>8</th>\n      <td>Carl Clarke</td>\n      <td>57</td>\n      <td>4/22/1967</td>\n      <td>wopevbic@dul.gn</td>\n      <td>Bigovejo</td>\n      <td>$8802.84</td>\n    </tr>\n    <tr>\n      <th>9</th>\n      <td>Nannie Simmons</td>\n      <td>40</td>\n      <td>1/15/1982</td>\n      <td>ebamernow@ewo.bn</td>\n      <td>Nukiof</td>\n      <td>$3121.11</td>\n    </tr>\n  </tbody>\n</table>\n</div>"
     },
     "execution_count": 292,
     "metadata": {},
     "output_type": "execute_result"
    }
   ],
   "source": [
    "df = pandas.read_csv(\"csv_files/random_csv_data.csv\")\n",
    "df.head(10)"
   ],
   "metadata": {
    "collapsed": false,
    "pycharm": {
     "name": "#%%\n"
    }
   }
  },
  {
   "cell_type": "markdown",
   "source": [
    "### Data types\n",
    "\n",
    "Birthday and Salary should not be of type str!\n",
    "\"Object\" type is a DataFrame str format."
   ],
   "metadata": {
    "collapsed": false
   }
  },
  {
   "cell_type": "code",
   "execution_count": 293,
   "outputs": [
    {
     "name": "stdout",
     "output_type": "stream",
     "text": [
      "Full name    object\n",
      "Age           int64\n",
      "Birthday     object\n",
      "Email        object\n",
      "City         object\n",
      "Salary       object\n",
      "dtype: object\n"
     ]
    }
   ],
   "source": [
    "print(df.dtypes)"
   ],
   "metadata": {
    "collapsed": false,
    "pycharm": {
     "name": "#%%\n"
    }
   }
  },
  {
   "cell_type": "markdown",
   "source": [
    "### Changing the dataframe index-column"
   ],
   "metadata": {
    "collapsed": false
   }
  },
  {
   "cell_type": "code",
   "execution_count": 294,
   "outputs": [
    {
     "data": {
      "text/plain": "                  Age    Birthday               Email       City    Salary\nFull name                                                                 \nViolet Morris      50   8/13/1996      lit@jelavef.ad   Ojotasjo  $4196.55\nJeffery Horton     44   6/22/1982   didehidog@wiep.gm   Builaoki  $8401.49\nAdrian Erickson    41   1/31/1962       malmob@jam.fm     Danada  $9804.96\nSarah Hubbard      50   3/22/1998         arega@ma.uy   Kiwraciw     $7.35\nLida Moran         27    2/7/1965  nafriwnah@dacaz.lc    Nuosijo  $3736.35\nGregory Ellis      28   1/18/1969     ujkeduku@gaf.do  Niljujhet  $8391.73\nJonathan Hopkins   65  12/21/1989  gafhab@pinofsis.ph   Sahtufat   $959.05\nLeroy Weber        30   3/14/1990        vevuj@tej.be   Jebmudum  $2411.78\nCarl Clarke        57   4/22/1967     wopevbic@dul.gn   Bigovejo  $8802.84\nNannie Simmons     40   1/15/1982    ebamernow@ewo.bn     Nukiof  $3121.11",
      "text/html": "<div>\n<style scoped>\n    .dataframe tbody tr th:only-of-type {\n        vertical-align: middle;\n    }\n\n    .dataframe tbody tr th {\n        vertical-align: top;\n    }\n\n    .dataframe thead th {\n        text-align: right;\n    }\n</style>\n<table border=\"1\" class=\"dataframe\">\n  <thead>\n    <tr style=\"text-align: right;\">\n      <th></th>\n      <th>Age</th>\n      <th>Birthday</th>\n      <th>Email</th>\n      <th>City</th>\n      <th>Salary</th>\n    </tr>\n    <tr>\n      <th>Full name</th>\n      <th></th>\n      <th></th>\n      <th></th>\n      <th></th>\n      <th></th>\n    </tr>\n  </thead>\n  <tbody>\n    <tr>\n      <th>Violet Morris</th>\n      <td>50</td>\n      <td>8/13/1996</td>\n      <td>lit@jelavef.ad</td>\n      <td>Ojotasjo</td>\n      <td>$4196.55</td>\n    </tr>\n    <tr>\n      <th>Jeffery Horton</th>\n      <td>44</td>\n      <td>6/22/1982</td>\n      <td>didehidog@wiep.gm</td>\n      <td>Builaoki</td>\n      <td>$8401.49</td>\n    </tr>\n    <tr>\n      <th>Adrian Erickson</th>\n      <td>41</td>\n      <td>1/31/1962</td>\n      <td>malmob@jam.fm</td>\n      <td>Danada</td>\n      <td>$9804.96</td>\n    </tr>\n    <tr>\n      <th>Sarah Hubbard</th>\n      <td>50</td>\n      <td>3/22/1998</td>\n      <td>arega@ma.uy</td>\n      <td>Kiwraciw</td>\n      <td>$7.35</td>\n    </tr>\n    <tr>\n      <th>Lida Moran</th>\n      <td>27</td>\n      <td>2/7/1965</td>\n      <td>nafriwnah@dacaz.lc</td>\n      <td>Nuosijo</td>\n      <td>$3736.35</td>\n    </tr>\n    <tr>\n      <th>Gregory Ellis</th>\n      <td>28</td>\n      <td>1/18/1969</td>\n      <td>ujkeduku@gaf.do</td>\n      <td>Niljujhet</td>\n      <td>$8391.73</td>\n    </tr>\n    <tr>\n      <th>Jonathan Hopkins</th>\n      <td>65</td>\n      <td>12/21/1989</td>\n      <td>gafhab@pinofsis.ph</td>\n      <td>Sahtufat</td>\n      <td>$959.05</td>\n    </tr>\n    <tr>\n      <th>Leroy Weber</th>\n      <td>30</td>\n      <td>3/14/1990</td>\n      <td>vevuj@tej.be</td>\n      <td>Jebmudum</td>\n      <td>$2411.78</td>\n    </tr>\n    <tr>\n      <th>Carl Clarke</th>\n      <td>57</td>\n      <td>4/22/1967</td>\n      <td>wopevbic@dul.gn</td>\n      <td>Bigovejo</td>\n      <td>$8802.84</td>\n    </tr>\n    <tr>\n      <th>Nannie Simmons</th>\n      <td>40</td>\n      <td>1/15/1982</td>\n      <td>ebamernow@ewo.bn</td>\n      <td>Nukiof</td>\n      <td>$3121.11</td>\n    </tr>\n  </tbody>\n</table>\n</div>"
     },
     "execution_count": 294,
     "metadata": {},
     "output_type": "execute_result"
    }
   ],
   "source": [
    "df = pandas.read_csv(\"csv_files/random_csv_data.csv\",index_col=\"Full name\")\n",
    "df.head(10)"
   ],
   "metadata": {
    "collapsed": false,
    "pycharm": {
     "name": "#%%\n"
    }
   }
  },
  {
   "cell_type": "markdown",
   "source": [
    "### Fixing the data types\n",
    "#### We force pandas to parse date with parse_date"
   ],
   "metadata": {
    "collapsed": false
   }
  },
  {
   "cell_type": "code",
   "execution_count": 295,
   "outputs": [
    {
     "name": "stdout",
     "output_type": "stream",
     "text": [
      "<class 'pandas._libs.tslibs.timestamps.Timestamp'>\n"
     ]
    }
   ],
   "source": [
    "df = pandas.read_csv(\"csv_files/random_csv_data.csv\",index_col=\"Full name\", parse_dates=['Birthday'])\n",
    "df.head(10)\n",
    "print(type(df['Birthday'][0]))"
   ],
   "metadata": {
    "collapsed": false,
    "pycharm": {
     "name": "#%%\n"
    }
   }
  },
  {
   "cell_type": "markdown",
   "source": [
    "### We can set column names as well!"
   ],
   "metadata": {
    "collapsed": false
   }
  },
  {
   "cell_type": "code",
   "execution_count": 296,
   "outputs": [
    {
     "name": "stdout",
     "output_type": "stream",
     "text": [
      "<class 'pandas._libs.tslibs.timestamps.Timestamp'>\n"
     ]
    }
   ],
   "source": [
    "df = pandas.read_csv('csv_files/random_csv_data.csv',\n",
    "            index_col='Full name',\n",
    "            parse_dates=['Birthday_changes'],\n",
    "            header=0,\n",
    "            names=['Full name', 'Age_changed','Birthday_changes', 'Email_changed','City_changed','Salary_changed'])\n",
    "df.head(10)\n",
    "print(type(df['Birthday_changes'][0]))"
   ],
   "metadata": {
    "collapsed": false,
    "pycharm": {
     "name": "#%%\n"
    }
   }
  },
  {
   "cell_type": "markdown",
   "source": [
    "### Writing CSV with pandas\n",
    "#### We save the previously modified df"
   ],
   "metadata": {
    "collapsed": false
   }
  },
  {
   "cell_type": "code",
   "execution_count": 297,
   "outputs": [],
   "source": [
    "df.to_csv('csv_files/random_csv_data_modified.csv')"
   ],
   "metadata": {
    "collapsed": false,
    "pycharm": {
     "name": "#%%\n"
    }
   }
  }
 ],
 "metadata": {
  "kernelspec": {
   "display_name": "Python 3",
   "language": "python",
   "name": "python3"
  },
  "language_info": {
   "codemirror_mode": {
    "name": "ipython",
    "version": 2
   },
   "file_extension": ".py",
   "mimetype": "text/x-python",
   "name": "python",
   "nbconvert_exporter": "python",
   "pygments_lexer": "ipython2",
   "version": "2.7.6"
  }
 },
 "nbformat": 4,
 "nbformat_minor": 0
}