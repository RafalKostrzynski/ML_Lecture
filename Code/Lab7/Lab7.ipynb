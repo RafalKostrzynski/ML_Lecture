{
 "cells": [
  {
   "cell_type": "markdown",
   "source": [
    "## Output function:"
   ],
   "metadata": {
    "collapsed": false
   }
  },
  {
   "cell_type": "code",
   "execution_count": 12,
   "outputs": [],
   "source": [
    "def create_output(w_bias, w1, w2, bias,x1, x2, activation, output):\n",
    "    print(\"|w_bias: \", w_bias, \" |w1: \",w1,\" |w2: \", w2,\" |bias: \",bias, \" |x1: \", x1, \" |x2: \", x2,\n",
    "          \" |Activation value: \",activation,\" |Output: \",output)"
   ],
   "metadata": {
    "collapsed": false,
    "pycharm": {
     "name": "#%%\n"
    }
   }
  },
  {
   "cell_type": "markdown",
   "source": [
    "## Activation function"
   ],
   "metadata": {
    "collapsed": false,
    "pycharm": {
     "name": "#%% md\n"
    }
   }
  },
  {
   "cell_type": "code",
   "execution_count": 13,
   "outputs": [],
   "source": [
    "def activation_function(x):\n",
    "    if x >= 0:\n",
    "        return 1\n",
    "    else:\n",
    "        return 0\n"
   ],
   "metadata": {
    "collapsed": false,
    "pycharm": {
     "name": "#%%\n"
    }
   }
  },
  {
   "cell_type": "markdown",
   "source": [
    "# Single Neurons"
   ],
   "metadata": {
    "collapsed": false
   }
  },
  {
   "cell_type": "markdown",
   "source": [
    "## AND, OR, NOT Neuron function"
   ],
   "metadata": {
    "collapsed": false
   }
  },
  {
   "cell_type": "code",
   "execution_count": 14,
   "outputs": [],
   "source": [
    "def neuron_output(w_bias, w1, w2, bias, x1, x2):\n",
    "    return activation_function(activation_value(w_bias, w1, w2, bias, x1, x2))\n",
    "\n",
    "def activation_value(w_bias, w1, w2, bias, x1, x2):\n",
    "    return bias*w_bias+w1*x1+w2*x2"
   ],
   "metadata": {
    "collapsed": false,
    "pycharm": {
     "name": "#%%\n"
    }
   }
  },
  {
   "cell_type": "markdown",
   "source": [
    "## AND"
   ],
   "metadata": {
    "collapsed": false
   }
  },
  {
   "cell_type": "code",
   "execution_count": 15,
   "outputs": [
    {
     "name": "stdout",
     "output_type": "stream",
     "text": [
      "|w_bias:  -1.5  |w1:  1  |w2:  1  |bias:  1  |x1:  0  |x2:  0  |Activation value:  -1.5  |Output:  0\n",
      "|w_bias:  -1.5  |w1:  1  |w2:  1  |bias:  1  |x1:  0  |x2:  1  |Activation value:  -0.5  |Output:  0\n",
      "|w_bias:  -1.5  |w1:  1  |w2:  1  |bias:  1  |x1:  1  |x2:  0  |Activation value:  -0.5  |Output:  0\n",
      "|w_bias:  -1.5  |w1:  1  |w2:  1  |bias:  1  |x1:  1  |x2:  1  |Activation value:  0.5  |Output:  1\n"
     ]
    }
   ],
   "source": [
    "create_output(-1.5,1,1,1,0,0,activation_value(-1.5, 1, 1, 1, 0, 0),neuron_output(-1.5, 1, 1, 1, 0, 0))\n",
    "create_output(-1.5,1,1,1,0,1,activation_value(-1.5, 1, 1, 1, 0, 1),neuron_output(-1.5, 1, 1, 1, 0, 1))\n",
    "create_output(-1.5,1,1,1,1,0,activation_value(-1.5, 1, 1, 1, 1, 0),neuron_output(-1.5, 1, 1, 1, 1, 0))\n",
    "create_output(-1.5,1,1,1,1,1,activation_value(-1.5, 1, 1, 1, 1, 1),neuron_output(-1.5, 1, 1, 1, 1, 1))"
   ],
   "metadata": {
    "collapsed": false,
    "pycharm": {
     "name": "#%%\n"
    }
   }
  },
  {
   "cell_type": "markdown",
   "source": [
    "## OR"
   ],
   "metadata": {
    "collapsed": false
   }
  },
  {
   "cell_type": "code",
   "execution_count": 16,
   "outputs": [
    {
     "name": "stdout",
     "output_type": "stream",
     "text": [
      "|w_bias:  -0.5  |w1:  1  |w2:  1  |bias:  1  |x1:  0  |x2:  0  |Activation value:  -0.5  |Output:  0\n",
      "|w_bias:  -0.5  |w1:  1  |w2:  1  |bias:  1  |x1:  0  |x2:  1  |Activation value:  0.5  |Output:  1\n",
      "|w_bias:  -0.5  |w1:  1  |w2:  1  |bias:  1  |x1:  1  |x2:  0  |Activation value:  0.5  |Output:  1\n",
      "|w_bias:  -0.5  |w1:  1  |w2:  1  |bias:  1  |x1:  1  |x2:  1  |Activation value:  1.5  |Output:  1\n"
     ]
    }
   ],
   "source": [
    "create_output(-0.5, 1, 1, 1, 0, 0,activation_value(-0.5, 1, 1, 1, 0, 0),neuron_output(-0.5, 1, 1, 1, 0, 0))\n",
    "create_output(-0.5, 1, 1, 1, 0, 1,activation_value(-0.5, 1, 1, 1, 0, 1),neuron_output(-0.5, 1, 1, 1, 0, 1))\n",
    "create_output(-0.5, 1, 1, 1, 1, 0,activation_value(-0.5, 1, 1, 1, 1, 0),neuron_output(-0.5, 1, 1, 1, 1, 0))\n",
    "create_output(-0.5, 1, 1, 1, 1, 1,activation_value(-0.5, 1, 1, 1, 1, 1),neuron_output(-0.5, 1, 1, 1, 1, 1))\n"
   ],
   "metadata": {
    "collapsed": false,
    "pycharm": {
     "name": "#%%\n"
    }
   }
  },
  {
   "cell_type": "markdown",
   "source": [
    "## NOT"
   ],
   "metadata": {
    "collapsed": false
   }
  },
  {
   "cell_type": "code",
   "execution_count": 17,
   "outputs": [
    {
     "name": "stdout",
     "output_type": "stream",
     "text": [
      "|w_bias:  1  |w1:  -2  |w2:  0  |bias:  1  |x1:  0  |x2:  0  |Activation value:  1  |Output:  1\n",
      "|w_bias:  1  |w1:  -2  |w2:  0  |bias:  1  |x1:  1  |x2:  0  |Activation value:  -1  |Output:  0\n"
     ]
    }
   ],
   "source": [
    "create_output(1, -2, 0, 1, 0, 0,activation_value(1, -2, 0, 1, 0, 0),neuron_output(1, -2, 0, 1, 0, 0))\n",
    "create_output(1, -2, 0, 1, 1, 0,activation_value(1, -2, 0, 1, 1, 0),neuron_output(1, -2, 0, 1, 1, 0))"
   ],
   "metadata": {
    "collapsed": false,
    "pycharm": {
     "name": "#%%\n"
    }
   }
  },
  {
   "cell_type": "markdown",
   "source": [
    "# Neural Networks"
   ],
   "metadata": {
    "collapsed": false
   }
  },
  {
   "cell_type": "markdown",
   "source": [
    "## XNOR Network function"
   ],
   "metadata": {
    "collapsed": false
   }
  },
  {
   "cell_type": "code",
   "execution_count": 18,
   "outputs": [],
   "source": [
    "def xnor_network_output(x1, x2):\n",
    "    notA_and_notB = neuron_output(0.5, -1, -1, 1, x1, x2)\n",
    "    print(\"\\nFirst layer data:\\n(A’.B’):\")\n",
    "    create_output(0.5, -1, -1, 1, x1, x2, activation_value(0.5, -1, -1, 1, x1, x2),notA_and_notB)\n",
    "\n",
    "    A_and_B = neuron_output(-1.5, 1, 1, 1, x1, x2)\n",
    "\n",
    "    print(\"(A.B):\")\n",
    "    create_output(-1.5, 1, 1, 1, x1, x2,activation_value(-1.5, 1, 1, 1, x1, x2),A_and_B)\n",
    "    print(\"\\nOutput data:\")\n",
    "    return neuron_output(-0.5, 1, 1, 1, notA_and_notB, A_and_B)"
   ],
   "metadata": {
    "collapsed": false,
    "pycharm": {
     "name": "#%%\n"
    }
   }
  },
  {
   "cell_type": "markdown",
   "source": [
    "## XNOR"
   ],
   "metadata": {
    "collapsed": false
   }
  },
  {
   "cell_type": "code",
   "execution_count": 19,
   "outputs": [
    {
     "name": "stdout",
     "output_type": "stream",
     "text": [
      "\n",
      "Hidden layer data:\n",
      "(A’.B’):\n",
      "|w_bias:  0.5  |w1:  -1  |w2:  -1  |bias:  1  |x1:  0  |x2:  0  |Activation value:  0.5  |Output:  1\n",
      "(A.B):\n",
      "|w_bias:  -1.5  |w1:  1  |w2:  1  |bias:  1  |x1:  0  |x2:  0  |Activation value:  -1.5  |Output:  0\n",
      "\n",
      "Output data:\n",
      "|w_bias:  -1.5  |w1:  1  |w2:  1  |bias:  1  |x1:  0  |x2:  0  |Activation value:  -1.5  |Output:  1\n",
      "\n",
      "Hidden layer data:\n",
      "(A’.B’):\n",
      "|w_bias:  0.5  |w1:  -1  |w2:  -1  |bias:  1  |x1:  0  |x2:  1  |Activation value:  -0.5  |Output:  0\n",
      "(A.B):\n",
      "|w_bias:  -1.5  |w1:  1  |w2:  1  |bias:  1  |x1:  0  |x2:  1  |Activation value:  -0.5  |Output:  0\n",
      "\n",
      "Output data:\n",
      "|w_bias:  -1.5  |w1:  1  |w2:  1  |bias:  1  |x1:  0  |x2:  1  |Activation value:  -0.5  |Output:  0\n",
      "\n",
      "Hidden layer data:\n",
      "(A’.B’):\n",
      "|w_bias:  0.5  |w1:  -1  |w2:  -1  |bias:  1  |x1:  1  |x2:  0  |Activation value:  -0.5  |Output:  0\n",
      "(A.B):\n",
      "|w_bias:  -1.5  |w1:  1  |w2:  1  |bias:  1  |x1:  1  |x2:  0  |Activation value:  -0.5  |Output:  0\n",
      "\n",
      "Output data:\n",
      "|w_bias:  -1.5  |w1:  1  |w2:  1  |bias:  1  |x1:  1  |x2:  0  |Activation value:  -0.5  |Output:  0\n",
      "\n",
      "Hidden layer data:\n",
      "(A’.B’):\n",
      "|w_bias:  0.5  |w1:  -1  |w2:  -1  |bias:  1  |x1:  1  |x2:  1  |Activation value:  -1.5  |Output:  0\n",
      "(A.B):\n",
      "|w_bias:  -1.5  |w1:  1  |w2:  1  |bias:  1  |x1:  1  |x2:  1  |Activation value:  0.5  |Output:  1\n",
      "\n",
      "Output data:\n",
      "|w_bias:  -1.5  |w1:  1  |w2:  1  |bias:  1  |x1:  1  |x2:  1  |Activation value:  0.5  |Output:  1\n"
     ]
    }
   ],
   "source": [
    "create_output(-1.5, 1, 1, 1, 0, 0,activation_value(-1.5, 1, 1, 1, 0, 0),xnor_network_output(0, 0))\n",
    "create_output(-1.5, 1, 1, 1, 0, 1,activation_value(-1.5, 1, 1, 1, 0, 1),xnor_network_output(0, 1))\n",
    "create_output(-1.5, 1, 1, 1, 1, 0,activation_value(-1.5, 1, 1, 1, 1, 0),xnor_network_output(1, 0))\n",
    "create_output(-1.5, 1, 1, 1, 1, 1,activation_value(-1.5, 1, 1, 1, 1, 1),xnor_network_output(1, 1))"
   ],
   "metadata": {
    "collapsed": false,
    "pycharm": {
     "name": "#%%\n"
    }
   }
  },
  {
   "cell_type": "markdown",
   "source": [
    "## XOR Network function"
   ],
   "metadata": {
    "collapsed": false
   }
  },
  {
   "cell_type": "code",
   "execution_count": 20,
   "outputs": [],
   "source": [
    "def xor_network_output(x1, x2):\n",
    "    return neuron_output(1, -2, 0, 1, xnor_network_output(x1, x2), 0)"
   ],
   "metadata": {
    "collapsed": false,
    "pycharm": {
     "name": "#%%\n"
    }
   }
  },
  {
   "cell_type": "markdown",
   "source": [
    "## XOR"
   ],
   "metadata": {
    "collapsed": false
   }
  },
  {
   "cell_type": "code",
   "execution_count": 21,
   "outputs": [
    {
     "name": "stdout",
     "output_type": "stream",
     "text": [
      "\n",
      "Hidden layer data:\n",
      "(A’.B’):\n",
      "|w_bias:  0.5  |w1:  -1  |w2:  -1  |bias:  1  |x1:  0  |x2:  0  |Activation value:  0.5  |Output:  1\n",
      "(A.B):\n",
      "|w_bias:  -1.5  |w1:  1  |w2:  1  |bias:  1  |x1:  0  |x2:  0  |Activation value:  -1.5  |Output:  0\n",
      "\n",
      "Output data:\n",
      "|w_bias:  -1.5  |w1:  1  |w2:  1  |bias:  1  |x1:  0  |x2:  0  |Activation value:  -1.5  |Output:  0\n",
      "\n",
      "Hidden layer data:\n",
      "(A’.B’):\n",
      "|w_bias:  0.5  |w1:  -1  |w2:  -1  |bias:  1  |x1:  0  |x2:  1  |Activation value:  -0.5  |Output:  0\n",
      "(A.B):\n",
      "|w_bias:  -1.5  |w1:  1  |w2:  1  |bias:  1  |x1:  0  |x2:  1  |Activation value:  -0.5  |Output:  0\n",
      "\n",
      "Output data:\n",
      "|w_bias:  -1.5  |w1:  1  |w2:  1  |bias:  1  |x1:  0  |x2:  1  |Activation value:  -0.5  |Output:  1\n",
      "\n",
      "Hidden layer data:\n",
      "(A’.B’):\n",
      "|w_bias:  0.5  |w1:  -1  |w2:  -1  |bias:  1  |x1:  1  |x2:  0  |Activation value:  -0.5  |Output:  0\n",
      "(A.B):\n",
      "|w_bias:  -1.5  |w1:  1  |w2:  1  |bias:  1  |x1:  1  |x2:  0  |Activation value:  -0.5  |Output:  0\n",
      "\n",
      "Output data:\n",
      "|w_bias:  -1.5  |w1:  1  |w2:  1  |bias:  1  |x1:  1  |x2:  0  |Activation value:  -0.5  |Output:  1\n",
      "\n",
      "Hidden layer data:\n",
      "(A’.B’):\n",
      "|w_bias:  0.5  |w1:  -1  |w2:  -1  |bias:  1  |x1:  1  |x2:  1  |Activation value:  -1.5  |Output:  0\n",
      "(A.B):\n",
      "|w_bias:  -1.5  |w1:  1  |w2:  1  |bias:  1  |x1:  1  |x2:  1  |Activation value:  0.5  |Output:  1\n",
      "\n",
      "Output data:\n",
      "|w_bias:  -1.5  |w1:  1  |w2:  1  |bias:  1  |x1:  1  |x2:  1  |Activation value:  0.5  |Output:  0\n"
     ]
    }
   ],
   "source": [
    "create_output(-1.5, 1, 1, 1, 0, 0,activation_value(-1.5, 1, 1, 1, 0, 0),xor_network_output(0, 0))\n",
    "create_output(-1.5, 1, 1, 1, 0, 1,activation_value(-1.5, 1, 1, 1, 0, 1),xor_network_output(0, 1))\n",
    "create_output(-1.5, 1, 1, 1, 1, 0,activation_value(-1.5, 1, 1, 1, 1, 0),xor_network_output(1, 0))\n",
    "create_output(-1.5, 1, 1, 1, 1, 1,activation_value(-1.5, 1, 1, 1, 1, 1),xor_network_output(1, 1))"
   ],
   "metadata": {
    "collapsed": false,
    "pycharm": {
     "name": "#%%\n"
    }
   }
  }
 ],
 "metadata": {
  "kernelspec": {
   "display_name": "Python 3",
   "language": "python",
   "name": "python3"
  },
  "language_info": {
   "codemirror_mode": {
    "name": "ipython",
    "version": 2
   },
   "file_extension": ".py",
   "mimetype": "text/x-python",
   "name": "python",
   "nbconvert_exporter": "python",
   "pygments_lexer": "ipython2",
   "version": "2.7.6"
  }
 },
 "nbformat": 4,
 "nbformat_minor": 0
}